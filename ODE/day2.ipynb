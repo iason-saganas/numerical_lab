{
 "cells": [
  {
   "cell_type": "markdown",
   "metadata": {
    "scrolled": false
   },
   "source": [
    "# Numerics Lab ODE notebook\n",
    "\n",
    "This ipython notebook is to be used to complete the problem set on the numerics lab.\n",
    "You will need to execute every cell in this notebook to complete your task.\n",
    "Some cells will require your input before executing.\n",
    "They are clearly marked.\n",
    "\n",
    "Recall that each of these cells (like the one you are reading)\n",
    "can be modified by double mouse clicking on the cell,\n",
    "and then executed by pressing `shift+enter`.\n",
    "\n",
    "## Prerequisites to performing this lab\n",
    "\n",
    "You should have already read the\n",
    "[ode_manual.pdf](http://www.usm.uni-muenchen.de/people/puls/lessons/numpraktnew/ode/ode_manual.pdf).\n",
    "You should also have answered all of the questions in the text up to Chapter&nbsp;4.\n",
    "This notebook is to be used in lieu of (most of) Chapter&nbsp;4 of the PDF manual.\n",
    "Important cells in the below notebook have a unique number\n",
    "that you can use to refer to in your lab write-up.\n",
    "You can create additional cells to help you organize your work.\n",
    "\n",
    "Note that this notebook is intended to help you perform the experiments.\n",
    "It is not a substitute for the written lab report that you must hand in\n",
    "and that explains your experiments and results in a clear,\n",
    "comprehensible manner.\n"
   ]
  },
  {
   "cell_type": "markdown",
   "metadata": {
    "scrolled": false
   },
   "source": [
    "# Part&nbsp;2 &mdash; Cosmological application of solutions to ODEs\n",
    "\n",
    "This part should be done on the second afternoon of the lab work.\n"
   ]
  },
  {
   "cell_type": "code",
   "execution_count": 2,
   "metadata": {
    "scrolled": false,
    "ExecuteTime": {
     "end_time": "2024-05-09T14:46:08.603354Z",
     "start_time": "2024-05-09T14:46:06.802761Z"
    }
   },
   "outputs": [],
   "source": [
    "#cell #1\n",
    "# You do not need to modify this cell.\n",
    "# It is used to import some code dependencies.\n",
    "\n",
    "%matplotlib qt\n",
    "import matplotlib.pyplot as plt\n",
    "import numpy as np\n",
    "from scipy.integrate import ode\n",
    "from styles.matplotlib_style import *"
   ]
  },
  {
   "cell_type": "markdown",
   "metadata": {
    "scrolled": false
   },
   "source": [
    "## Problem&nbsp;5\n",
    "\n",
    "#### Exercise&nbsp;15\n",
    "\n",
    "In cell&nbsp;#32 below, code the function that describes the\n",
    "evolution of the scale factor of the universe as an ODE.\n",
    "\n",
    "Neglect the radiation term, since this plays a role\n",
    "&ldquo;only&rdquo; in the very first epoch(s) of the Universe,\n",
    "together with inflation, which we will neglect as well,\n",
    "and which is justified as long as we are not interested\n",
    "in the details of these phases and have normalized\n",
    "all quantities to their present values.\n",
    "Remember that all times are in units of $\\tau_H$\n",
    "if we solve the equation for $\\dot a/H_0$.\n",
    "\n",
    "Note that the function should accept two additional\n",
    "arguments, $\\Omega_M$ and $\\Omega_\\Lambda$, that describe\n",
    "the matter density and the cosmological constant.\n",
    "\n",
    "Since we will only use the RK-integrator with adaptive step-size,\n",
    "the Jacobian does not need to be defined.\n"
   ]
  },
  {
   "cell_type": "code",
   "execution_count": 67,
   "metadata": {
    "scrolled": false,
    "ExecuteTime": {
     "end_time": "2024-05-09T21:05:37.948300Z",
     "start_time": "2024-05-09T21:05:37.916941Z"
    }
   },
   "outputs": [],
   "source": [
    "#cell #32\n",
    "\n",
    "def dydx_friedmann(x, y, omega_m, omega_l, sign=1):\n",
    "    \"\"\"\n",
    "    da / dt  = ....\n",
    "    Achtung: Time is in units of τ. \n",
    "    We assume an expanding universe (plus sign).\n",
    "    :param x: \n",
    "    :param y: \n",
    "    :param omega_m: \n",
    "    :param omega_l: \n",
    "    :return: \n",
    "    \"\"\"\n",
    "    t = x \n",
    "    a = y\n",
    "    omega_0 = omega_l + omega_m \n",
    "    num = 1 - omega_0 + omega_m/a + a**2 * omega_l\n",
    "    return sign*num**(1/2)\n",
    "    \n"
   ]
  },
  {
   "cell_type": "markdown",
   "metadata": {
    "scrolled": false
   },
   "source": [
    "In cell&nbsp;#33 below, we have a wrapper routine for the\n",
    "adaptive-stepsize Runge-Kutta routine that allows passing\n",
    "an additional parameter list to the function specifying the\n",
    "system of ODEs.\n",
    "You can use this to pass $\\Omega_M$ and $\\Omega_\\Lambda$ to\n",
    "your `dydx` function, allowing you to test different scenarios\n",
    "without having to rewrite the `dydx` function.\n",
    "You do not need to modify this cell, but you should understand\n",
    "how the parameters are passed to the `dydx` function.\n"
   ]
  },
  {
   "cell_type": "code",
   "execution_count": 147,
   "metadata": {
    "scrolled": false,
    "ExecuteTime": {
     "end_time": "2024-05-09T22:49:16.531551Z",
     "start_time": "2024-05-09T22:49:16.490541Z"
    }
   },
   "outputs": [],
   "source": [
    "#cell #33\n",
    "\n",
    "def rkdp(dydx: callable,y0:list,a: float,b:float,params: list=None, tol=1e-6):\n",
    "    \"\"\"\n",
    "    Integrate the system of ODEs given by y'(x,y)=dydx(x,y)\n",
    "    with initial condition y(a)=y0 from a to b using the\n",
    "    4th/5th-order Dormand-Prince Runge-Kutta method with\n",
    "    automatic stepsize adjustment controlled by tolerance tol,\n",
    "    and passing the parameters list to the dydx function.\n",
    "    \"\"\"\n",
    "    print(\"rkdp:\")\n",
    "    xo = [a]\n",
    "    nbad = [0]\n",
    "    nfun = [0]\n",
    "    def func(x,y,params):\n",
    "        nfun[0] += 1\n",
    "        if x<xo[0]:\n",
    "            nbad[0] += 1\n",
    "        xo[0] = x\n",
    "#       print(\"func:\",x,y)\n",
    "        return dydx(x,y,*params)\n",
    "    xa = []\n",
    "    ya = []\n",
    "    ngood = [0]\n",
    "    def goodstep(x,y):\n",
    "        ngood[0] += 1\n",
    "        xa.append(x)\n",
    "        ya.append(np.copy(y))\n",
    "#       print(\"good:\",x,y)\n",
    "    solver = ode(func)\n",
    "    solver.set_integrator('dopri5',rtol=tol,atol=1e-15,nsteps=100000,max_step=0.02,verbosity=0)\n",
    "    solver.set_solout(goodstep)\n",
    "    solver.set_initial_value(y0,t=a)\n",
    "    solver.set_f_params(params)\n",
    "    solver.integrate(b)\n",
    "    print(\"\\t \",nfun[0],\"calls of function\")\n",
    "    print(\"\\t \",ngood[0],\"good steps\")\n",
    "    print(\"\\t \",nbad[0],\"rejected steps\")\n",
    "    print(\"\\t \",ngood[0]+nbad[0],\"total steps\")\n",
    "    return np.array(xa),np.array(ya),nfun[0],ngood[0],nbad[0],ngood[0]+nbad[0]\n"
   ]
  },
  {
   "cell_type": "markdown",
   "metadata": {
    "scrolled": false
   },
   "source": [
    "### Problem&nbsp;5.1\n",
    "\n",
    "#### Exercise&nbsp;16\n",
    "\n",
    "Test your program now by means of your results from\n",
    "Exercise&nbsp;5a/b from the PDF manual.\n",
    "Plot the results for both scenarios.\n",
    "\n",
    "As initial value, invert your result from Exercise&nbsp;5a\n",
    "from the PDF manual (integrated from 0 to $a$) to obtain\n",
    "an approximate value $a(t_\\mathrm{start})$.\n",
    "In all of the following, we will adopt $t_\\mathrm{start}=10^{-10}$\n",
    "(in units of $\\tau_H$).\n"
   ]
  },
  {
   "cell_type": "code",
   "execution_count": 5,
   "metadata": {
    "scrolled": false,
    "ExecuteTime": {
     "end_time": "2024-05-09T14:46:12.734815Z",
     "start_time": "2024-05-09T14:46:12.721276Z"
    }
   },
   "outputs": [
    {
     "name": "stdout",
     "output_type": "stream",
     "text": [
      "Our initial value point (t_0, a_0)=( 1e-10 2.823108086643088e-07 )\n",
      "rkdp:\n",
      "\t  332 calls of function\n",
      "\t  56 good steps\n",
      "\t  0 rejected steps\n",
      "\t  56 total steps\n",
      "rkdp:\n",
      "\t  686 calls of function\n",
      "\t  113 good steps\n",
      "\t  2 rejected steps\n",
      "\t  115 total steps\n"
     ]
    }
   ],
   "source": [
    "#cell #34\n",
    "\n",
    "def analytic_solution_of_a(t_prime):\n",
    "    \"\"\"\n",
    "    Analytic solution of the Friedmann Equation (in Script, equation no.: 3.77)\n",
    "    \n",
    "    The equation is \n",
    "    \n",
    "    da/dt / H0 = +sqrt(1/a)\n",
    "    \n",
    "    We derived \n",
    "    \n",
    "    a = (3/2 H0 t)**(2/3)\n",
    "    \n",
    "    if t = t' τ , where τ = 1/H0\n",
    "    \n",
    "    this reduces to \n",
    "    \n",
    "    a = (3/2 t' )**(2/3).\n",
    "    \n",
    "    in a flat universe with only a matter component.\n",
    "    :param t_prime, float:  Time passed since the beginning in units of 1/H0 =: τ.\n",
    "    :return: \n",
    "    \"\"\"\n",
    "    return (3/2 * t_prime)**(2/3)\n",
    "\n",
    "tstart = 1e-10\n",
    "tend = 1.\n",
    "astart = analytic_solution_of_a(t_prime=tstart)\n",
    "print(\"Our initial value point (t_0, a_0)=(\", tstart, astart,\")\")\n",
    "\n",
    "# This describes an empty universe:\n",
    "omega_m_empty = 0\n",
    "omega_l_empty = 0\n",
    "\n",
    "# This describes a flat universe with only matter:\n",
    "omega_m_flatm = 1\n",
    "omega_l_flatm = 0\n",
    "\n",
    "t_empty,a_empty,_,_,_,_ = rkdp(dydx_friedmann,astart,tstart,tend,params=(omega_m_empty,omega_l_empty))\n",
    "t_flatm,a_flatm,nf,ng,nb,nt = rkdp(dydx_friedmann,astart,tstart,tend,params=(omega_m_flatm,omega_l_flatm))"
   ]
  },
  {
   "cell_type": "code",
   "execution_count": 120,
   "metadata": {
    "scrolled": false,
    "ExecuteTime": {
     "end_time": "2024-05-09T21:49:26.788498Z",
     "start_time": "2024-05-09T21:49:25.828289Z"
    }
   },
   "outputs": [],
   "source": [
    "#cell #35\n",
    "plot_1 = True\n",
    "if plot_1:\n",
    "    plt.suptitle(\"Notice how the slope is equal to $H_0$\")\n",
    "    plt.title(\"Evolution of the scale factor according to 1st. Friedmann equation\")\n",
    "    plt.ylabel(\"$a(t)$\")\n",
    "    plt.plot(t_empty, a_empty, \"-\", color=blue, label=\"Empty universe\")\n",
    "    plt.plot(t_flatm, a_flatm, \"-\", color=red, label=\"Flat matter universe\")\n",
    "    plt.hlines(1, 0, 1, color=\"black\", ls=\"--\",label=\"Scale factor $a=1$\")\n",
    "    plt.vlines(2/3, 0, 2, color=\"black\", ls=\"--\",label=r\"$t=2/3 \\tau$\")\n",
    "    plt.legend()\n",
    "    plt.xlabel(r\"$t$ in units of $\\tau$\")\n",
    "    plt.show()\n",
    "    plt.savefig(\"Evolution of flat matter and empty universe\")\n"
   ]
  },
  {
   "cell_type": "markdown",
   "metadata": {
    "scrolled": false
   },
   "source": [
    "### Problem&nbsp;5.2\n",
    "\n",
    "## Exercise&nbsp;17\n",
    "\n",
    "Now, try the solution for a matter-dominated, closed\n",
    "universe without cosmological constant,  $\\Omega_M=3$.\n",
    "Calculate until $t_\\mathrm{max}=3.0$ and plot the result.\n",
    "Try to explain the observed behavior.\n",
    "Will the real universe also behave this way?\n",
    "Why or why not?\n",
    "If yes, what will the future evolution of the universe be like?\n",
    "If not, how could you modify the program to reproduce\n",
    "the &ldquo;real&rdquo; behavior?\n"
   ]
  },
  {
   "cell_type": "code",
   "execution_count": 119,
   "metadata": {
    "scrolled": false,
    "ExecuteTime": {
     "end_time": "2024-05-09T21:49:15.365791Z",
     "start_time": "2024-05-09T21:49:15.313209Z"
    }
   },
   "outputs": [
    {
     "name": "stdout",
     "output_type": "stream",
     "text": [
      "rkdp:\n",
      "\t  2552 calls of function\n",
      "\t  390 good steps\n",
      "\t  36 rejected steps\n",
      "\t  426 total steps\n"
     ]
    },
    {
     "name": "stderr",
     "output_type": "stream",
     "text": [
      "/var/folders/9y/tnqj0p6s0mjcnrh409r__5l40000gn/T/ipykernel_1715/3410091465.py:18: RuntimeWarning: invalid value encountered in sqrt\n",
      "  return sign*num**(1/2)\n"
     ]
    }
   ],
   "source": [
    "#cell #36\n",
    "omega_m_p52 = 3.\n",
    "omega_l_p52 = 0.\n",
    "# From 'closed universe' we infer that Omega_m may be bigger than 1, which is indeed the case here. \n",
    "\n",
    "tend = 3.\n",
    "\n",
    "t_p52,a_p52,nf,ng,nb,nt = rkdp(dydx_friedmann,astart,tstart,tend,params=(omega_m_p52,omega_l_p52), tol=1e-6/1000)\n",
    "\n",
    "\n",
    "def unit_line(x, t_0):\n",
    "    return x+t_0\n",
    "\n",
    "\n",
    "plot_2 = False\n",
    "if plot_2:\n",
    "    \"\"\"plt.suptitle(\"Notice how the static evolution afters some time is not really physically sensible. \\n\"\n",
    "                 \"This is because the eigengravitation of matter would have to recollapse and cannot be static. \"\n",
    "                 \"\\nSo after the static part starts, we should mirror this function in the y-axis, representing the\"\n",
    "                 \"negative solution of the equation.\")\"\"\"\n",
    "    print(\"Also: A closed universe should recollapse\")\n",
    "    print(\"Also: The second Friedmann equation says that deceleration should be negative, i.e. the curvature should be negative!\")\n",
    "    plt.title(\"Evolution of the scale factor according to 1st. Friedmann equation\")\n",
    "    plt.ylabel(\"$a(t)$\")\n",
    "    plt.plot(t_p52, a_p52, \"-\", color=blue, label=\"Closed matter universe, $\\Omega_m=3$\", lw=2)\n",
    "    x_contin = np.linspace(0.2, 0.8, 100)\n",
    "    plt.plot(x_contin, unit_line(x_contin, 0.5), \"--\", color=\"black\", label=\"Unit line\")\n",
    "    plt.legend()\n",
    "    plt.xlabel(r\"$t$ in units of $\\tau$\")\n",
    "    plt.savefig(\"Evolution of high dark energy, closed universe.png\")\n"
   ]
  },
  {
   "cell_type": "code",
   "execution_count": 8,
   "metadata": {
    "scrolled": false,
    "ExecuteTime": {
     "end_time": "2024-05-09T14:46:14.020164Z",
     "start_time": "2024-05-09T14:46:13.998763Z"
    }
   },
   "outputs": [],
   "source": [
    "#cell #37\n",
    "\n",
    "# ...and plot the results. What happens? Is this real or not?\n"
   ]
  },
  {
   "cell_type": "markdown",
   "metadata": {
    "scrolled": false
   },
   "source": [
    "### Problem&nbsp;5.3\n",
    "\n",
    "#### Exercise&nbsp;18: Solutions for various parameter combinations\n",
    "\n",
    "After everything runs smoothly, calculate and plot the following models\n",
    "and briefly explain/comment on your findings.\n",
    "(Use an **adequate** $t_\\mathrm{max}$ &mdash; adapt as needed;\n",
    "e.g., for expanding universes, first try $t_\\mathrm{max}=4$,\n",
    "but change this if the behavior of the universe can then be seen better.)\n",
    "\n",
    "a) $\\Omega_\\mathrm{M}=3.0$, $\\Omega_\\Lambda=0.1$\n",
    "\n",
    "b) $\\Omega_\\mathrm{M}=3.0$, $\\Omega_\\Lambda=0.2$\n",
    "\n",
    "c) $\\Omega_\\mathrm{M}=0.0$, $\\Omega_\\Lambda=-0.1$\n",
    "\n",
    "d) $\\Omega_\\mathrm{M}=1.0$, $\\Omega_\\Lambda=1.0$\n",
    "\n",
    "e) $\\Omega_\\mathrm{M}=1.0$, $\\Omega_\\Lambda=2.55$\n",
    "\n",
    "f) $\\Omega_\\mathrm{M}=1.0$, $\\Omega_\\Lambda=2.6$\n"
   ]
  },
  {
   "cell_type": "code",
   "execution_count": 160,
   "metadata": {
    "scrolled": false,
    "ExecuteTime": {
     "end_time": "2024-05-09T22:56:51.701130Z",
     "start_time": "2024-05-09T22:56:44.693934Z"
    }
   },
   "outputs": [
    {
     "name": "stdout",
     "output_type": "stream",
     "text": [
      "rkdp:\n"
     ]
    },
    {
     "name": "stderr",
     "output_type": "stream",
     "text": [
      "/var/folders/9y/tnqj0p6s0mjcnrh409r__5l40000gn/T/ipykernel_1715/3410091465.py:18: RuntimeWarning: invalid value encountered in sqrt\n",
      "  return sign*num**(1/2)\n"
     ]
    },
    {
     "name": "stdout",
     "output_type": "stream",
     "text": [
      "\t  EXIT OF DOPRI5 AT X=        0.2135E+01\n",
      "  MORE THAN NMAX =      100000 STEPS ARE NEEDED\n",
      " 600008 calls of function\n",
      "\t  58369 good steps\n",
      "\t  41633 rejected steps\n",
      "\t  100002 total steps\n",
      "rkdp:\n",
      "\t  1244 calls of function\n",
      "\t  170 good steps\n",
      "\t  38 rejected steps\n",
      "\t  208 total steps\n",
      "rkdp:\n",
      "\t  2798 calls of function\n",
      "\t  465 good steps\n",
      "\t  2 rejected steps\n",
      "\t  467 total steps\n",
      " EXIT OF DOPRI5 AT X=        0.4271E+01\n",
      "  STEP SIZE T0O SMALL, H=   7.7210412287906631E-015\n",
      "rkdp:\n",
      "\t  8 calls of function\n",
      "\t  2 good steps\n",
      "\t  1 rejected steps\n",
      "\t  3 total steps\n",
      "rkdp:\n",
      "\t  3506 calls of function\n",
      "\t  554 good steps\n",
      "\t  31 rejected steps\n",
      "\t  585 total steps\n",
      "rkdp:\n",
      "\t  1514 calls of function\n",
      "\t  253 good steps\n",
      "\t  1 rejected steps\n",
      "\t  254 total steps\n",
      "rkdp:\n",
      "\t  1286 calls of function\n",
      "\t  213 good steps\n",
      "\t  2 rejected steps\n",
      "\t  215 total steps\n",
      "rkdp:\n",
      "\t  8 calls of function\n",
      "\t  2 good steps\n",
      "\t  1 rejected steps\n",
      "\t  3 total steps\n",
      "rkdp:\n",
      "\t  1286 calls of function\n",
      "\t  213 good steps\n",
      "\t  2 rejected steps\n",
      "\t  215 total steps\n",
      "rkdp:\n",
      "\t  8 calls of function\n",
      "\t  2 good steps\n",
      "\t  1 rejected steps\n",
      "\t  3 total steps\n",
      "rkdp:\n",
      "\t  3764 calls of function\n",
      "\t  602 good steps\n",
      "\t  26 rejected steps\n",
      "\t  628 total steps\n",
      "rkdp:\n",
      "\t  1052 calls of function\n",
      "\t  136 good steps\n",
      "\t  40 rejected steps\n",
      "\t  176 total steps\n",
      " EXIT OF DOPRI5 AT X=        0.2872E+01\n",
      "  STEP SIZE T0O SMALL, H=   6.4818663426111931E-015\n"
     ]
    }
   ],
   "source": [
    "#cell #38\n",
    "\n",
    "show_sequential_plots_old_version = False\n",
    "show_sequential_plots_new_version = True\n",
    "\n",
    "\n",
    "\n",
    "if show_sequential_plots_old_version: \n",
    "    plt.figure(figsize=(12, 8))\n",
    "    # There should be 3 rows and 2 columns\n",
    "    omega_m_list = [3, 3, 0, 1, 1, 1]\n",
    "    omega_l_list = [0.1, 0.2, -0.1, 1, 2.55, 2.6]\n",
    "    t_max_list = [2.5, 7, 5, 5, 4, 2.5]\n",
    "    counter_index = 1\n",
    "    plt.suptitle(\"Evolution of the scale factor according to 1st. Friedmann equation\", fontsize=20)\n",
    "    for omega_m_i, omega_l_i, t_max in zip(omega_m_list, omega_l_list, t_max_list):\n",
    "        \n",
    "        plt.subplot(3, 2, counter_index)  # 3 rows, 2 columns, this plot at position counter_index,\n",
    "        # counted from the top left\n",
    "        tmax = t_max\n",
    "        t_p53,a_p53,nf,ng,nb,nt = rkdp(dydx_friedmann,astart,tstart,tmax,params=(omega_m_i,omega_l_i), tol=1e-6)\n",
    "        if counter_index == 5:\n",
    "            plt.ylabel(\"$a(t)$\")\n",
    "            plt.xlabel(r\"$t$ in units of $\\tau$\")\n",
    "        plt.plot(t_p53, a_p53, \"-\", color=blue, label=\"$(\\Omega_m, \\Omega_{\\Lambda})=$\"+f\"${omega_m_i, omega_l_i}$\", lw=2)\n",
    "        plt.legend()\n",
    "        \n",
    "        counter_index += 1\n",
    "    \n",
    "    plt.savefig(\"Playing around with different universes.png\")\n",
    "    \n",
    "        \n",
    "def find_static_transition_point(y):\n",
    "    \"\"\"Return first point in (x, y) where the gradient of y is zero.\"\"\"\n",
    "    grad = np.gradient(y.flatten())\n",
    "    index_array = np.where(np.isclose(grad, 0))\n",
    "    return index_array\n",
    "\n",
    "\n",
    "if show_sequential_plots_new_version: \n",
    "    # There should be 3 rows and 2 columns\n",
    "    omega_m_list = [3, 3, 0, 1, 1, 1]\n",
    "    omega_l_list = [0.1, 0.2, -0.1, 1, 2.55, 2.6]\n",
    "    t_max_list = [10, 8, 10, 3, 3, 10]\n",
    "    colors = [\"red\", \"green\", \"blue\", \"violet\", \"orange\", \"brown\"]\n",
    "    plt.title(\"Evolution of the scale factor according to 1st. Friedmann equation\", fontsize=20)\n",
    "    plt.ylabel(\"$a(t)$\")\n",
    "    plt.xlabel(r\"$t$ in units of $\\tau$\")\n",
    "    for omega_m_i, omega_l_i, t_max, col in zip(omega_m_list, omega_l_list, t_max_list, colors):\n",
    "        \n",
    "        tmax = t_max\n",
    "    \n",
    "        time_plus, scale_factor_plus, nf,ng,nb,nt = rkdp(dydx_friedmann,astart,tstart,tmax, params=(omega_m_i,omega_l_i, +1), tol=1e-6)\n",
    "        \n",
    "        transition_region = find_static_transition_point(scale_factor_plus)\n",
    "        # Delete region after transition point in positive solution\n",
    "        scale_factor = np.delete(scale_factor_plus, transition_region)\n",
    "        time = np.delete(time_plus, transition_region)\n",
    "        \n",
    "        # evolve negative solution starting at transition point\n",
    "        time_minus, scale_factor_minus, _,_,_,_ = rkdp(dydx_friedmann,scale_factor[-1],time[-1],tmax, params=(omega_m_i,omega_l_i, -1), tol=1e-6)\n",
    "        \n",
    "        scale_factor = np.append(scale_factor, scale_factor_minus)\n",
    "        time = np.append(time, time_minus)\n",
    "        \n",
    "        plt.plot(time, scale_factor, \"-\", color=col, label=\"$(\\Omega_m, \\Omega_{\\Lambda})=$\"+f\"${omega_m_i, omega_l_i}$\", lw=2)\n",
    "            \n",
    "    plt.xlim(0, 11)\n",
    "    plt.ylim(0, 3.4)\n",
    "    plt.legend()\n",
    "    plt.show()\n",
    "    plt.savefig(\"Playing around with different universes.png\")\n"
   ]
  },
  {
   "cell_type": "code",
   "execution_count": 25,
   "metadata": {
    "scrolled": false,
    "ExecuteTime": {
     "end_time": "2024-05-03T20:59:39.857478Z",
     "start_time": "2024-05-03T20:59:39.845853Z"
    }
   },
   "outputs": [],
   "source": [
    "#cell #39\n",
    "\n",
    "# ...and plot the results. Comment briefly\n",
    "# on what distinguishes the different universes.\n"
   ]
  },
  {
   "cell_type": "markdown",
   "metadata": {
    "scrolled": false
   },
   "source": [
    "### Problem&nbsp;5.4\n",
    "\n",
    "#### Exercise&nbsp;19: Constraints on  $\\Omega_M$ and $\\Omega_\\Lambda$\n",
    "\n",
    "Using the observationally well-proven fact that our\n",
    "present Universe is very close to flatness,\n",
    "use your simulations to obtain the $(\\Omega_M,\\Omega_\\Lambda)$ pair\n",
    "that is consistent with the present Hubble-parameter and\n",
    "$t_0=13.7\\pm 0.2~\\mathrm{Gyr}$ (from the WMAP team).\n",
    "Analyze roughly the corresponding errors.\n",
    "\n",
    "The present value of $H_0$ is : $67.4 \\pm 0.5$\n"
   ]
  },
  {
   "cell_type": "code",
   "execution_count": 123,
   "metadata": {
    "scrolled": false,
    "ExecuteTime": {
     "end_time": "2024-05-09T21:51:37.767675Z",
     "start_time": "2024-05-09T21:51:36.252128Z"
    }
   },
   "outputs": [
    {
     "name": "stdout",
     "output_type": "stream",
     "text": [
      "rkdp:\n",
      "\t  1982 calls of function\n",
      "\t  329 good steps\n",
      "\t  2 rejected steps\n",
      "\t  331 total steps\n",
      "Absolute error of H0 in 1/s: 1.6214709012069567e-20 value of H0 in 1/s : 2.1852707563436075e-18\n",
      "Absolute error of t0 in s: 6307830720000000.0 value of t0 in s : 4.320432e+17\n",
      "Absolute error of t_tilde:  0.015462335511548964\n",
      "rkdp:\n",
      "\t  1982 calls of function\n",
      "\t  329 good steps\n",
      "\t  2 rejected steps\n",
      "\t  331 total steps\n",
      "rkdp:\n",
      "\t  1982 calls of function\n",
      "\t  329 good steps\n",
      "\t  2 rejected steps\n",
      "\t  331 total steps\n"
     ]
    }
   ],
   "source": [
    " #cell #40\n",
    "# 1/H0 =: τ; t0/τ \n",
    "# t' = t0/ tau \n",
    "\n",
    "tmax = 3\n",
    "omega_m_54 = 0.33\n",
    "omega_l_54 = 1-omega_m_54\n",
    "t0 = 13.7e9 * 365 * 24 * 3600\n",
    "H0 = 67.4*1000 / (10**6 * 3.26 * 9.461e+15) # 1/s\n",
    "tau = 1/H0\n",
    "t_in_units_of_tau = t0 / tau\n",
    "t_p54,a_p54,nf,ng,nb,nt = rkdp(dydx_friedmann,astart,tstart,tmax,params=(omega_m_54, omega_l_54), tol=1e-6/1000)\n",
    "\n",
    "\"\"\"\n",
    "Note:\n",
    "We furthermore calculate the error on the variable `t_in_units_of_tau`=: t_tilde by Gaussian error propagation: \n",
    "\n",
    "    t_tilde = H0 * t0,\n",
    "    \n",
    "where from the assumed independence of H0 and t0 it follows that \n",
    "\n",
    "    Δ t_tilde = ( (H0 * Δt_0)**2  + (t_0 * ΔH0 )**2 )**(-1/2)\n",
    "    \n",
    "where Δt_0 = 0.2 Gyrs and ΔΗ0/H0 = 0.00742\n",
    "\"\"\"\n",
    "\n",
    "H0_relative_error = 0.00742\n",
    "H0_absolute_error = H0_relative_error * H0\n",
    "\n",
    "t0_relative_error = 0.0146\n",
    "t0_absolute_error = t0_relative_error * t0\n",
    "print(\"Absolute error of H0 in 1/s:\", H0_absolute_error, \"value of H0 in 1/s :\", H0)\n",
    "print(\"Absolute error of t0 in s:\", t0_absolute_error, \"value of t0 in s :\", t0)\n",
    "\n",
    "t_tilde_absolute_error = ( (H0 * t0_absolute_error)**2 + (t0 * H0_absolute_error)**2)**(1/2)\n",
    "print(\"Absolute error of t_tilde: \", t_tilde_absolute_error)\n",
    "\n",
    "\"\"\"plt.suptitle(r\"We have experimentally shown that for $(\\Omega_m, \\Omega_{\\Lambda})=(0.33, 0.67)$ that: $a(\\tilde{t})=1.$\" + \"\\n\"+\n",
    "            r\"We have furthermore shown that $a(\\tilde{t}+\\Delta\\tilde{t})=1$ for $(\\Omega_m, \\Omega_{\\Lambda})=(0.31, 0.69)$, as\"\n",
    "            r\"well as $a(\\tilde{t}-\\Delta\\tilde{t})=1$ for $(\\Omega_m, \\Omega_{\\Lambda})=(0.35, 0.65)$.\")\"\"\"\n",
    "\n",
    "import matplotlib.gridspec as gridspec\n",
    "\n",
    "# Create 2x2 sub plots\n",
    "gs = gridspec.GridSpec(2, 2, height_ratios=[2,1])\n",
    "\n",
    "plt.subplot(gs[0, :])\n",
    "\n",
    "plt.vlines(t_in_units_of_tau, -2, 1.4, ls=\"--\", color=\"black\",label=\"Age of the universe\")\n",
    "plt.hlines(1, -1, 4, ls=\"--\", color=\"black\",label=\"Scale factor $a(t)=1$\")\n",
    "\"\"\"plt.axhspan(1 - 0.1, 1 + 0.1, alpha=0.5, color='blue', \n",
    "            label=r\"Resulting upper and lower error band on $a(t)=1$.\")\"\"\"\n",
    "plt.title(\"Evolution of the scale factor according to 1st. Friedmann equation\")\n",
    "plt.ylabel(\"$a(t)$\")\n",
    "plt.plot(t_p54, a_p54, \"-\", color=blue, label=\"Universe parameters: $(\\Omega_m, \\Omega_{\\Lambda})=$\"+f\"${omega_m_54, 0.67}$\", lw=2)\n",
    "plt.axvspan(t_in_units_of_tau - t_tilde_absolute_error, t_in_units_of_tau + t_tilde_absolute_error, alpha=0.5, color='red', \n",
    "            label=r\"Upper and lower error band on $t^{\\prime}/\\tau$\", ymin=0, ymax=0.3)\n",
    "plt.xlabel(r\"$t$ in units of $\\tau$\")\n",
    "plt.legend()\n",
    "plt.xlim(0, 3)\n",
    "plt.ylim(0, 5)\n",
    "\n",
    "plt.subplot(gs[1, 0])\n",
    "t_p54_min,a_p54_min,_,_,_,_ = rkdp(dydx_friedmann,astart,tstart,tmax,params=(0.35, 1-0.35), tol=1e-6/1000)\n",
    "plt.plot(t_p54_min, a_p54_min, \"-\", color=blue, lw=2)\n",
    "plt.text(0.8573, 1.447, \"$(\\Omega_m, \\Omega_{\\Lambda})=$\"+f\"${0.35, 0.65}$\" )\n",
    "plt.xlim(0.85, 1.05)\n",
    "plt.ylim(0.8, 1.6)\n",
    "plt.axvspan(t_in_units_of_tau - t_tilde_absolute_error, t_in_units_of_tau + t_tilde_absolute_error, alpha=0.5, color='red', \n",
    "            label=r\"Upper and lower error band on $t^{\\prime}/\\tau$\", ymin=0, ymax=1)\n",
    "plt.vlines(t_in_units_of_tau, -2, 1.4, ls=\"--\", color=\"black\",label=\"Age of the universe\")\n",
    "plt.hlines(1, -1, 4, ls=\"--\", color=\"black\",label=\"Scale factor $a(t)=1$\")\n",
    "\n",
    "\n",
    "plt.subplot(gs[1, 1])\n",
    "t_p54_max,a_p54_max,_,_,_,_ = rkdp(dydx_friedmann,astart,tstart,tmax,params=(0.31, 1-.31), tol=1e-6/1000)\n",
    "plt.plot(t_p54_max, a_p54_max, \"-\", color=blue, lw=2)\n",
    "plt.xlim(0.85, 1.05)\n",
    "plt.ylim(0.8, 1.6)\n",
    "plt.axvspan(t_in_units_of_tau - t_tilde_absolute_error, t_in_units_of_tau + t_tilde_absolute_error, alpha=0.5, color='red', \n",
    "            label=r\"Upper and lower error band on $t^{\\prime}/\\tau$\", ymin=0, ymax=1)\n",
    "plt.vlines(t_in_units_of_tau, -2, 1.4, ls=\"--\", color=\"black\",label=\"Age of the universe\")\n",
    "plt.hlines(1, -1, 4, ls=\"--\", color=\"black\", label=\"Scale factor $a(t)=1$\")\n",
    "\n",
    "plt.text(0.8573, 1.447, \"$(\\Omega_m, \\Omega_{\\Lambda})=$\"+f\"${0.31, 1-.31}$\" )\n",
    "\n",
    "plt.tight_layout()\n",
    "plt.savefig(\"Finding omega l and omega m for our universe with error bars.png\")"
   ]
  },
  {
   "cell_type": "markdown",
   "metadata": {
    "scrolled": false
   },
   "source": [
    "### Problem&nbsp;5.5\n",
    "\n",
    "#### Exercise&nbsp;20: The $(\\Omega_M,\\Omega_\\Lambda)$ diagram\n",
    "\n",
    "This problem is implemented as a standalone Python program.\n",
    "Please download the corresponding file from the lab web page.\n"
   ]
  },
  {
   "cell_type": "code",
   "execution_count": 26,
   "outputs": [],
   "source": [],
   "metadata": {
    "collapsed": false,
    "ExecuteTime": {
     "end_time": "2024-05-03T20:59:39.859291Z",
     "start_time": "2024-05-03T20:59:39.846502Z"
    }
   }
  }
 ],
 "metadata": {
  "kernelspec": {
   "display_name": "Python 3",
   "language": "python",
   "name": "python3"
  },
  "language_info": {
   "codemirror_mode": {
    "name": "ipython",
    "version": 3
   },
   "file_extension": ".py",
   "mimetype": "text/x-python",
   "name": "python",
   "nbconvert_exporter": "python",
   "pygments_lexer": "ipython3",
   "version": "3.6.15"
  }
 },
 "nbformat": 4,
 "nbformat_minor": 1
}
