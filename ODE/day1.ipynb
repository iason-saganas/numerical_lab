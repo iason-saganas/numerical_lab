{
 "cells": [
  {
   "cell_type": "markdown",
   "metadata": {
    "scrolled": false
   },
   "source": [
    "# Part&nbsp;1 &mdash; Integrator properties\n",
    "\n",
    "This part should be done on the first afternoon of the lab work.\n"
   ]
  },
  {
   "cell_type": "code",
   "execution_count": 2,
   "metadata": {
    "scrolled": false,
    "ExecuteTime": {
     "end_time": "2024-05-10T10:24:49.274099Z",
     "start_time": "2024-05-10T10:24:47.667866Z"
    }
   },
   "outputs": [],
   "source": [
    "import matplotlib.pyplot as plt\n",
    "%matplotlib qt\n",
    "import numpy as np\n",
    "from scipy.integrate import ode\n",
    "from styles.matplotlib_style import *\n",
    "from utilities import *"
   ]
  },
  {
   "cell_type": "markdown",
   "metadata": {
    "scrolled": false
   },
   "source": [
    "\n",
    "## Problem&nbsp;1\n",
    "\n",
    "### Problem&nbsp;1.1\n",
    "\n",
    "#### Exercise&nbsp;1: Euler integrator\n",
    "\n",
    "You should complete the Euler integration routine in the below cell.\n",
    "We will then test the function to see if it works correctly.\n",
    "We have already prepared the function, and defined the\n",
    "inputs and outputs that the function should have.\n",
    "\n",
    "Note that we have specified the routine to return a\n",
    "**two-dimensional** array for `y`.\n",
    "While this would not have been strictly required for the current problem,\n",
    "we did this in anticipation of the future,\n",
    "so that we can use this routine also with **systems of ODEs**,\n",
    "where every timestep would yield a **vector** of values:\n",
    "\n",
    "         x               y     -or-           y\n",
    "      [ x_0,        [ [ y_0 ],     [ [ y1_0, y2_0, ... ],\n",
    "        x_1,          [ y_1 ],       [ y1_1, y2_1, ... ],\n",
    "        x_2,          [ y_2 ],       [ y1_2, y2_2, ... ],\n",
    "        ... ]           ...   ]              ...         ]\n"
   ]
  },
  {
   "cell_type": "code",
   "execution_count": 3,
   "metadata": {
    "scrolled": false,
    "ExecuteTime": {
     "end_time": "2024-05-10T10:24:49.287703Z",
     "start_time": "2024-05-10T10:24:49.280626Z"
    }
   },
   "outputs": [],
   "source": [
    "#cell #3\n",
    "\n",
    "def eul(dydx,y0,a,b,n):\n",
    "    \"\"\"\n",
    "    Integrate the system of ODEs given by y'(x,y)=dydx(x,y)\n",
    "    with initial condition y(a)=y0 from a to b in n steps\n",
    "    using the Euler method.\n",
    "\n",
    "    Input:\n",
    "        dydx : function to compute y'(x,y)\n",
    "        y0   : 1-dim array of size m containing the initial values of y (at x0=a),\n",
    "               where m is the number of differential equations in the system\n",
    "        a    : start value of x\n",
    "        b    : end value of x\n",
    "        n    : number of steps to use for the interval [a,b]\n",
    "\n",
    "    Output:\n",
    "        x    : 1-dim array of size (n+1) containing the x values used in the integration\n",
    "        y    : 2-dim array of size (n+1,m) containing the resulting y-values\n",
    "    \"\"\"\n",
    "    print(\"Euler method called.\")\n",
    "    h = (b-a)/float(n)  # step size \n",
    "    x = a + h*np.arange(n+1)  # time array\n",
    "    y = np.zeros(((n+1),len(y0)))  # \n",
    "    y[0] = y0 # assigns the entire row y[0,*]\n",
    "    for i in range(n):\n",
    "        y[i+1] = y[i] + h * dydx(x[i],y[i])\n",
    "    print(\"\\n \",n,\"calls of function\")\n",
    "    print(\"\\n \",n,\"steps\")\n",
    "    return x,y\n"
   ]
  },
  {
   "cell_type": "markdown",
   "metadata": {
    "scrolled": false
   },
   "source": [
    "#### Worked example&nbsp;#1\n",
    "\n",
    "In the below cell, we provide a full worked example of\n",
    "Example&nbsp;2.5 on page&nbsp;2-6 of the PDF manual.\n",
    "Free free to play with the initial conditions, and step sizes etc.\n",
    "The results should be comparable to Figure&nbsp;2.3 of the PDF manual,\n",
    "which we reproduce below:\n",
    "\n",
    "<img src='http://www.usm.uni-muenchen.de/people/paech/Astro_Num_Lab/ODE.png'>\n",
    "\n",
    "We know what the output should be, so let&rsquo;s see\n",
    "if the Euler code that you have written is working as expected.\n",
    "\n",
    "Please pay attention to the form of the $dy/dx$ function that we have written.\n"
   ]
  },
  {
   "cell_type": "code",
   "execution_count": 4,
   "metadata": {
    "scrolled": false,
    "ExecuteTime": {
     "end_time": "2024-05-10T10:24:49.316908Z",
     "start_time": "2024-05-10T10:24:49.298553Z"
    }
   },
   "outputs": [],
   "source": [
    "#cell #4\n",
    "\n",
    "def dydx_example_2_5(x, y):\n",
    "    \"\"\"\n",
    "    Example 2.5 on page 12 of the ODE notes.\n",
    "    This function accepts an x-value and y-value.\n",
    "    \"\"\"\n",
    "    return -np.sin(x)*(y**2)\n",
    "\n",
    "# Plot and save a comparison of the Euler Method solution for different integration interval lengths at a constant step size\n",
    "plot_1 = False\n",
    "\n",
    "# Plot and save a comparison of the Euler Method solution for different step sizes at a constant interval length\n",
    "plot_2 = False\n",
    "\n",
    "if plot_1:\n",
    "    # Perform a loop over different integration interval lengths with the same step size\n",
    "    for i in range(1, 10):\n",
    "        \n",
    "        # The initial conditions.\n",
    "        x0 = 0.\n",
    "        y0 = [2.01]\n",
    "        \n",
    "        # End of integration interval. Adjust this parameter.\n",
    "        x1 = i\n",
    "        \n",
    "        # How many steps in both +x and -x directions. Adjust this parameter.\n",
    "        n_steps = 10\n",
    "        \n",
    "        x_pos, y_pos = eul(dydx_example_2_5,y0,x0, x1,n_steps,)\n",
    "        x_neg, y_neg = eul(dydx_example_2_5,y0,x0,-x1,n_steps,)\n",
    "        \n",
    "        # This neat trick combines two arrays:\n",
    "        x = np.append(np.flipud(x_neg), x_pos)\n",
    "        y = np.append(np.flipud(y_neg), y_pos)\n",
    "        \n",
    "        x_continuous = np.linspace(-x1, x1, 200)\n",
    "        # The y_analytic = results are on page 12 (2-6) of ODE pdf.\n",
    "        y_analytic = 1./(1.+1./y0[0]-np.cos(x_continuous))\n",
    "        \n",
    "        # Let's compare the output of your Euler code with the analytic results:\n",
    "        if i==1:\n",
    "            # Plot the Euler approximation only once with the label\n",
    "            plt.plot(x, y, '-', label='Euler Method Solution', color=blue, lw=2, alpha=1/i)\n",
    "        elif i==9:\n",
    "            # Plot the analytic solution once at the end of the iteration so it spans the biggest x-interval\n",
    "            plt.plot(x_continuous, y_analytic, '-', label='Analytic Solution', color=red, lw=2)\n",
    "        else:\n",
    "            plt.plot(x, y, '-', color=blue, lw=2, alpha=1/i)\n",
    "            \n",
    "        plt.legend()\n",
    "    \n",
    "    plt.title(r\"The Euler-Method for $y^{\\prime}=-\\mathrm{sin}(x)y^2$\")\n",
    "    plt.suptitle(\"Constant steps, varying integration interval length. The smaller the opacity, the longer the interval.\")\n",
    "    plt.xlabel(\"$x$\")\n",
    "    plt.ylabel(\"$y(x)$\")\n",
    "    plt.xlim(-4, 4)\n",
    "    plt.savefig(\"figures/euler_method_testing_interval_length.png\")\n",
    "    \n",
    "    \n",
    "if plot_2:\n",
    "    # Perform a loop over different integration interval lengths with the same step size\n",
    "    for i in [100, 40, 20, 10]:\n",
    "        \n",
    "        # The initial conditions.\n",
    "        x0 = 0.\n",
    "        y0 = [2.01]\n",
    "        \n",
    "        # End of integration interval. Adjust this parameter.\n",
    "        x1 = 4\n",
    "        \n",
    "        # How many steps in both +x and -x directions. Adjust this parameter.\n",
    "        n_steps = i\n",
    "        \n",
    "        x_pos, y_pos = eul(dydx_example_2_5,y0,x0, x1,n_steps,)\n",
    "        x_neg, y_neg = eul(dydx_example_2_5,y0,x0,-x1,n_steps,)\n",
    "        \n",
    "        # This neat trick combines two arrays:\n",
    "        x = np.append(np.flipud(x_neg), x_pos)\n",
    "        y = np.append(np.flipud(y_neg), y_pos)\n",
    "        \n",
    "        x_continuous = np.linspace(-x1, x1, 200)\n",
    "        # The y_analytic = results are on page 12 (2-6) of ODE pdf.\n",
    "        y_analytic = 1./(1.+1./y0[0]-np.cos(x_continuous))\n",
    "        \n",
    "        # Let's compare the output of your Euler code with the analytic results:\n",
    "        if i==100:\n",
    "            # Plot the Euler approximation only once with the label\n",
    "            plt.plot(x, y, '-', label='Euler Method Solution', color=blue, lw=2, alpha=(1-1/i))\n",
    "            # Plot the analytic solution once \n",
    "            plt.plot(x_continuous, y_analytic, '-', label='Analytic Solution', color=red, lw=2)\n",
    "        else:\n",
    "            plt.plot(x, y, '-', color=blue, lw=2, alpha=1/i)\n",
    "            \n",
    "        plt.legend()\n",
    "    \n",
    "    plt.title(r\"The Euler-Method for $y^{\\prime}=-\\mathrm{sin}(x)y^2$\")\n",
    "    plt.suptitle(\"Constant interval length, varying step size. The smaller the opacity, the smaller the step size.\")\n",
    "    plt.xlabel(\"$x$\")\n",
    "    plt.ylabel(\"$y(x)$\")\n",
    "    plt.xlim(-4, 4)\n",
    "    plt.savefig(\"figures/before_exercise_7/euler_method_testing_step_size.png\") \n"
   ]
  },
  {
   "cell_type": "markdown",
   "metadata": {
    "scrolled": false
   },
   "source": [
    "#### Exercise&nbsp;2: Explore the step size, and number of steps.\n",
    "\n",
    "In cell&nbsp;#4 above, modify the interesting parameters\n",
    "of the call to the Euler integrator.\n",
    "Document which are good choices to make.\n"
   ]
  },
  {
   "cell_type": "markdown",
   "metadata": {
    "scrolled": false
   },
   "source": [
    "#### Exercise&nbsp;3\n",
    "\n",
    "As a first exercise, we would now like to solve a first-order differential equation defined by\n",
    "\n",
    "$$\\partial_x y(x) = a y(x)$$\n",
    "with $a=2.5$ and $y(0)=0.001$.\n",
    "\n",
    "* Write down your analytic solution into cell&nbsp;#5.\n",
    "Format the solution nicely, and show your steps.\n",
    "\n",
    "* Then code the ODE $\\partial_x y(x)$, and the exact solution function, into cell&nbsp;#6.\n",
    "\n",
    "* Read and understand the code in cell&nbsp;#7.\n",
    "Add additional comments to make the code easier to read.\n",
    "Then execute cell&nbsp;#7, and explore the resulting plots in cell&nbsp;#8.\n",
    "Compare the results when using 100 and 1000 steps.\n"
   ]
  },
  {
   "cell_type": "markdown",
   "metadata": {
    "scrolled": false
   },
   "source": [
    "#cell #5\n",
    "\n",
    "Your analytic solution goes here.\n",
    "Double mouse click on this cell to edit it.\n",
    "\n",
    "The solution is \n",
    "\n",
    "$$ y(x) = y_0\\cdot e^{a(x-x_0)}$$\n",
    "\n",
    "Or, inputting the initial values and parameters: \n",
    "\n",
    "$$ y(x) = 0.001\\cdot e^{2.5x}$$\n"
   ]
  },
  {
   "cell_type": "code",
   "execution_count": 5,
   "metadata": {
    "scrolled": false,
    "ExecuteTime": {
     "end_time": "2024-05-10T10:24:49.318024Z",
     "start_time": "2024-05-10T10:24:49.304865Z"
    }
   },
   "outputs": [],
   "source": [
    "#cell #6\n",
    "# Complete these functions.\n",
    "\n",
    "def problem1_dydx(x, y):\n",
    "    return 2.5*y\n",
    "\n",
    "def problem1_analytic_solution(x):\n",
    "    return 0.001 * np.exp(2.5 * x)\n"
   ]
  },
  {
   "cell_type": "code",
   "execution_count": 6,
   "metadata": {
    "scrolled": false,
    "ExecuteTime": {
     "end_time": "2024-05-10T10:24:50.445117Z",
     "start_time": "2024-05-10T10:24:50.427967Z"
    }
   },
   "outputs": [
    {
     "name": "stdout",
     "output_type": "stream",
     "text": [
      "Euler method called.\n",
      "\n",
      "  100 calls of function\n",
      "\n",
      "  100 steps\n",
      "Euler method called.\n",
      "\n",
      "  1000 calls of function\n",
      "\n",
      "  1000 steps\n"
     ]
    }
   ],
   "source": [
    "#cell #7\n",
    "\n",
    "problem1_a = 0.  # Anfangszeit\n",
    "problem1_b = 10.  # Endzeit\n",
    "\n",
    "problem1_y0 = [1e-3]  # y0 initial condition\n",
    "\n",
    "# Run the integration with 100 and 1000 steps.\n",
    "# Also, create labels that we can use below\n",
    "# to mark each curve in the following plot.\n",
    "\n",
    "x_euler_stepsize_100, y_euler_stepsize_100 = eul(dydx=problem1_dydx, \n",
    "                                                 y0=problem1_y0, \n",
    "                                                 a=problem1_a, \n",
    "                                                 b=problem1_b, \n",
    "                                                 n=100)\n",
    "\n",
    "x_euler_stepsize_1000, y_euler_stepsize_1000 = eul(dydx=problem1_dydx,\n",
    "                                                   y0=problem1_y0, \n",
    "                                                   a=problem1_a, \n",
    "                                                   b=problem1_b, \n",
    "                                                   n=1000)\n",
    "\n",
    "y_analytic_stepsize_100 = problem1_analytic_solution(x_euler_stepsize_100)\n",
    "y_analytic_stepsize_1000 = problem1_analytic_solution(x_euler_stepsize_1000)\n"
   ]
  },
  {
   "cell_type": "code",
   "execution_count": 7,
   "metadata": {
    "scrolled": false,
    "ExecuteTime": {
     "end_time": "2024-05-10T10:24:51.119655Z",
     "start_time": "2024-05-10T10:24:51.094406Z"
    }
   },
   "outputs": [],
   "source": [
    "#cell #8\n",
    "\n",
    "# Plot the solution (analytic and Euler Method) of the DFE y'=2.5y \n",
    "# varying step size.\n",
    "plot_3 = False\n",
    "\n",
    "if plot_3:\n",
    "    \n",
    "    plt.subplot(2, 1, 1)\n",
    "    plt.plot(x_euler_stepsize_1000, y_euler_stepsize_1000[:, 0], '-', label=\"Stepsize $1000$\", lw=2, color=blue, alpha=0.8)\n",
    "    plt.plot(x_euler_stepsize_100, y_euler_stepsize_100 [:, 0], '-', label=\"Stepsize $100$\", lw=2, color=blue, alpha=0.3)\n",
    "    plt.plot(x_euler_stepsize_1000, y_analytic_stepsize_1000, '-', label=\"Exact solution\", color=red, lw=2)\n",
    "    plt.legend(loc='upper left')\n",
    "    plt.xlabel('$x$')\n",
    "    plt.ylabel('$y$')\n",
    "    plt.suptitle(r\"Initial condition: $y(0)=0.001$. Notice the scale of the $y$-axis!\")\n",
    "    plt.title(r'Euler Method for $y^{\\prime} = 2.5 y$')\n",
    "    \n",
    "    plt.subplot(2, 1, 2)\n",
    "    \n",
    "    plt.plot(x_euler_stepsize_1000, y_euler_stepsize_1000[:, 0], '-', label=\"Stepsize $1000$\", lw=2, color=blue, alpha=0.8)\n",
    "    plt.plot(x_euler_stepsize_100, y_euler_stepsize_100 [:, 0], '-', label=\"Stepsize $100$\", lw=2, color=blue, alpha=0.3)\n",
    "    plt.plot(x_euler_stepsize_1000, y_analytic_stepsize_1000, '-', label=\"Exact solution\", color=red, lw=2)\n",
    "    plt.yscale('log')\n",
    "    plt.xlabel(\"$x$\")\n",
    "    plt.ylabel(\"$y$ (log-scale)\")\n",
    "    \n",
    "    plt.savefig(\"figures/before_exercise_7/euler_method_another_dfe_step_size\")\n"
   ]
  },
  {
   "cell_type": "markdown",
   "metadata": {
    "scrolled": false
   },
   "source": [
    "#### Exercise&nbsp;4: Global discretization error\n",
    "\n",
    "We have calculated an approximation to the solution.\n",
    "Let us now determine the &ldquo;global discretization error&rdquo;\n",
    "as given by equations 2.10 through 2.12 on page 2-3 of the PDF manual.\n",
    "\n",
    "Compute the maximum deviation and print this to the screen.\n",
    "Now turn the computation into a function that accepts two inputs,\n",
    "y1 and y2, and returns the maximum value of the global discretization error.\n",
    "Document the function and the code.\n",
    "\n",
    "Show all of your workings in cell&nbsp;#9.\n"
   ]
  },
  {
   "cell_type": "code",
   "execution_count": 8,
   "metadata": {
    "scrolled": false,
    "ExecuteTime": {
     "end_time": "2024-05-10T10:24:52.227275Z",
     "start_time": "2024-05-10T10:24:52.222142Z"
    }
   },
   "outputs": [
    {
     "name": "stdout",
     "output_type": "stream",
     "text": [
      "Maximum global error from Euler with  100 steps (normed by scale of solution): 6.709580587208815\n",
      "\n",
      "Maximum global error from Euler with 1000 steps (normed by scale of solution): 1.9054969158391974\n"
     ]
    }
   ],
   "source": [
    "#cell #9\n",
    "#Global discretization error, eq. 2.10 page 2-3 ODE pdf\n",
    "\n",
    "def global_err(y_approx,y_exact):\n",
    "    \"\"\"\n",
    "    This function fetches the maximum absolute residual between a known analytic solution and one of its approximations.\n",
    "    \n",
    "    Since the approximate solutions use additional brackets for potential multidimensional y's,\n",
    "    we first flatten the solution array y in this 1D case.\n",
    "    In higher D-cases, the correct column has to be extracted.\n",
    "    \n",
    "    :param y_approx: np.array,  The approximate solution\n",
    "    :param y_exact: np.array,   The analytic solution\n",
    "    :return: \n",
    "    \"\"\"\n",
    "    residuals = y_exact - y_approx.flatten()\n",
    "    return np.max(residuals)\n",
    "\n",
    "print(\"Maximum global error from Euler with  100 steps (normed by scale of solution):\", global_err(y_approx=y_euler_stepsize_100, y_exact=y_analytic_stepsize_100) / 1e7)\n",
    "\n",
    "print(\"\")\n",
    "\n",
    "print(\"Maximum global error from Euler with 1000 steps (normed by scale of solution):\", global_err(y_approx=y_euler_stepsize_1000, y_exact=y_analytic_stepsize_1000) / 1e7)\n"
   ]
  },
  {
   "cell_type": "markdown",
   "metadata": {
    "scrolled": false
   },
   "source": [
    "### Problem&nbsp;1.2\n",
    "\n",
    "#### Runge-Kutta integrator\n",
    "\n",
    "In cell&nbsp;#10 we have prepared a routine that uses the classical 4th-order Runge-Kutta method\n",
    "to integrate a set of ordinary differential equations.\n",
    "You do not need to modify this cell, but you should understand the variables\n",
    "passed to and returned from this function.\n",
    "See if you can recognize the Runge-Kutta scheme as it is shown in the PDF manual.\n"
   ]
  },
  {
   "cell_type": "code",
   "execution_count": 9,
   "metadata": {
    "scrolled": false,
    "ExecuteTime": {
     "end_time": "2024-05-10T10:24:53.073715Z",
     "start_time": "2024-05-10T10:24:53.053450Z"
    }
   },
   "outputs": [],
   "source": [
    "#cell #10\n",
    "# You do not need to modify this cell. You should ensure you understand the variables passed to this function.\n",
    "\n",
    "def rk4(dydx,y0,a,b,n):\n",
    "    \"\"\"\n",
    "    Integrate the system of ODEs given by y'(x,y)=dydx(x,y)\n",
    "    with initial condition y(a)=y0 from a to b in n steps\n",
    "    using the classical 4th-order Runge-Kutta method.\n",
    "\n",
    "    Input:\n",
    "        dydx : function to compute y'(x,y)\n",
    "        y0   : 1-dim array of size m containing the initial values of y (at x0=a),\n",
    "               where m is the number of differential equations in the system\n",
    "        a    : start value of x\n",
    "        b    : end value of x\n",
    "        n    : number of steps to use for the interval [a,b]\n",
    "\n",
    "    Output:\n",
    "        x    : 1-dim array of size (n+1) containing the x values used in the integration\n",
    "        y    : 2-dim array of size (n+1,m) containing the resulting y-values\n",
    "    \"\"\"\n",
    "    print(\"rk4 called.\")\n",
    "    h = (b-a)/float(n)  # Step size\n",
    "    x = a + h*np.arange(n+1)  # x_n\n",
    "    y = np.zeros(((n+1),len(y0)))  # initialize with zero \n",
    "    y[0] = y0  # inject zero state\n",
    "    for i in range(n):\n",
    "        xi = x[i]; yi = y[i]\n",
    "        k1 = h*dydx(xi     ,yi      )\n",
    "        k2 = h*dydx(xi+h*.5,yi+k1*.5)\n",
    "        k3 = h*dydx(xi+h*.5,yi+k2*.5)\n",
    "        k4 = h*dydx(xi+h   ,yi+k3   )\n",
    "        y[i+1] = yi + (k1 + 2.*k2 + 2.*k3 + k4)/6.\n",
    "    print(\"\\n \",4*n,\"calls of function\")\n",
    "    print(\"\\n \",n,\"steps\")\n",
    "    return x,y\n"
   ]
  },
  {
   "cell_type": "markdown",
   "metadata": {
    "scrolled": false
   },
   "source": [
    "#### Exercise&nbsp;5: Call the 4th-order Runge-Kutta code\n",
    "\n",
    "In cell&nbsp;#11, apply the Runge-Kutta code to the ODE,\n",
    "and plot the output in cell&nbsp;#12.\n",
    "How does the accuracy of RK4 compare with the Euler function that you wrote?\n",
    "You must describe these results in your report.\n",
    "Show if it is more or less accurate in cell&nbsp;#13.\n"
   ]
  },
  {
   "cell_type": "code",
   "execution_count": 10,
   "metadata": {
    "scrolled": false,
    "ExecuteTime": {
     "end_time": "2024-05-10T10:24:53.917371Z",
     "start_time": "2024-05-10T10:24:53.907275Z"
    }
   },
   "outputs": [
    {
     "name": "stdout",
     "output_type": "stream",
     "text": [
      "rk4 called.\n",
      "\n",
      "  400 calls of function\n",
      "\n",
      "  100 steps\n",
      "rk4 called.\n",
      "\n",
      "  4000 calls of function\n",
      "\n",
      "  1000 steps\n"
     ]
    }
   ],
   "source": [
    "#cell #11\n",
    "\n",
    "x_rk4_stepsize_100, y_rk_stepsize_100 = rk4(dydx=problem1_dydx, y0=problem1_y0, a=problem1_a, b=problem1_b, n=100)\n",
    "\n",
    "x_rk4_stepsize_1000, y_rk4_stepsize_1000 = rk4(dydx=problem1_dydx, y0=problem1_y0, a=problem1_a, b=problem1_b, n=1000)\n",
    "\n"
   ]
  },
  {
   "cell_type": "code",
   "execution_count": 11,
   "metadata": {
    "scrolled": false,
    "ExecuteTime": {
     "end_time": "2024-05-10T10:24:55.005388Z",
     "start_time": "2024-05-10T10:24:54.991198Z"
    }
   },
   "outputs": [],
   "source": [
    "#cell #12\n",
    "\n",
    "plot_4 = False\n",
    "if plot_4:\n",
    "    plt.title(r\"Runge-Kutta 4 applied on $y^{\\prime}=2.5y$\")\n",
    "    plt.suptitle(r\"Initial condition: $y(0)=0.001$. Notice the scale of the $y$-axis!\")\n",
    "    plt.xlabel(\"$x$\")\n",
    "    plt.ylabel(\"$y(x)$\")\n",
    "    \n",
    "    plt.plot(x_euler_stepsize_1000, y_analytic_stepsize_1000, \"-\", color=red, label=\"Exact solution\", lw=2)\n",
    "    \n",
    "    plt.plot(x_rk4_stepsize_100, y_rk_stepsize_100, \"--\", color=blue, lw=2, label=\"RK4 with stepsize $100$\", alpha=0.5)\n",
    "    \n",
    "    plt.plot(x_euler_stepsize_100, y_euler_stepsize_100 [:, 0],\"-\", lw=2, color=green, label=\"Euler with stepsize $100$\", alpha=0.5)\n",
    "    \n",
    "    plt.legend()\n",
    "    \n",
    "    plt.savefig(\"figures/before_exercise_7/rk4_compared_to_euler\")"
   ]
  },
  {
   "cell_type": "code",
   "execution_count": 12,
   "metadata": {
    "scrolled": false,
    "ExecuteTime": {
     "end_time": "2024-05-10T10:24:56.527952Z",
     "start_time": "2024-05-10T10:24:56.500525Z"
    }
   },
   "outputs": [
    {
     "name": "stdout",
     "output_type": "stream",
     "text": [
      "Global error runge kutta 100 steps (normed by scale of solution): 0.004759197771906852\n",
      "\n",
      "Global error runge kutta 1000 steps (normed by scale of solution): 5.738993316888809e-07\n"
     ]
    }
   ],
   "source": [
    "#cell #13\n",
    "\n",
    "# Calculate the global discretization error and compare with results from Exercise 4.\n",
    "\n",
    "print(\"Global error runge kutta 100 steps (normed by scale of solution):\", global_err(y_rk_stepsize_100, y_analytic_stepsize_100)/1e7)\n",
    "\n",
    "print(\"\")\n",
    "\n",
    "print(\"Global error runge kutta 1000 steps (normed by scale of solution):\", global_err(y_rk4_stepsize_1000, y_analytic_stepsize_1000)/1e7)\n"
   ]
  },
  {
   "cell_type": "markdown",
   "metadata": {
    "scrolled": false
   },
   "source": [
    "#### Exercise&nbsp;6: Plot the relative discretization error of both methods\n",
    "\n",
    "In this exercise you should calculate (and plot as a function of x)\n",
    "the relative difference between the approximate numeric solutions\n",
    "and the analytic solution.\n",
    "Why is it often more meaningful to look at the relative errors\n",
    "rather than the absolute errors?\n",
    "\n",
    "For this exercise work entirely in cell&nbsp;#14.\n",
    "Label any plots, and add legends.\n",
    "Document your code accordingly.\n"
   ]
  },
  {
   "cell_type": "code",
   "execution_count": 13,
   "metadata": {
    "scrolled": false,
    "ExecuteTime": {
     "end_time": "2024-05-10T10:25:02.399154Z",
     "start_time": "2024-05-10T10:25:02.374686Z"
    }
   },
   "outputs": [],
   "source": [
    "#cell #14\n",
    "\n",
    "# Plot and save a figure on the relative error of the rk4 approximation\n",
    "plot_5 = False\n",
    "\n",
    "def rel_err(y_approx,y_exact):\n",
    "    \"\"\"\n",
    "    The relative error between a known exact solution and one of its approximations is\n",
    "    to take pointwise difference between the two arrays and again pointwise divide out the exact solution.\n",
    "    \n",
    "    \"\"\"\n",
    "    y_approx_norm = (y_approx - y_exact) / y_exact\n",
    "    return y_approx_norm \n",
    "\n",
    "if plot_5:\n",
    "    plt.xlabel(\"$x$\")\n",
    "    plt.ylabel(r\"$\\mid \\varepsilon_{\\mathrm{rel}}(x) \\mid$ in $\\%$ (!)\")\n",
    "    \n",
    "    plt.suptitle(r\"For the differential equation $y^{\\prime}=2.5y$ with initial condition $y(0)=0.001$.\" +\"\\nThe relative distance is the pointwise relative difference between the approximation and the real solution.\" +\"\\nThe RK4 method used 100 steps.\")\n",
    "    \n",
    "    plt.title(\"Modulus of relative error of RK4 method\")\n",
    "    \n",
    "    rel_err_rk4 = np.abs(100 * rel_err(y_rk_stepsize_100.flatten(), y_analytic_stepsize_100))\n",
    "    plt.plot(x_rk4_stepsize_100, rel_err_rk4, \"-\", color=\"black\", lw=2)\n",
    "    \n",
    "    plt.savefig(\"figures/before_exercise_7/relative_error_of_rk4_method\")"
   ]
  },
  {
   "cell_type": "markdown",
   "metadata": {
    "scrolled": false
   },
   "source": [
    "### Problem&nbsp;1.3\n",
    "\n",
    "#### Other integrators\n",
    "\n",
    "In cell&nbsp;#15 below we provide wrapper routines for\n",
    "calling other integrators provided by the SciPy library.\n",
    "We have implemented these as *classes* in order to\n",
    "encapsulate some internally used variables.\n",
    "\n",
    "These classes are used as follows:\n",
    "```\n",
    "rk5_instance = RKDP5(dydx_func, initial_y, initial_x, final_x)\n",
    "rk5_instance.integrate()\n",
    "x_result, y_result, num_funccalls, num_goodsteps, num_badsteps, num_totalsteps = rk5_instance.result()\n",
    "```\n",
    "An optional `tol=`_tolerance_ argument can be additionally supplied in the\n",
    "`RKDP5` and `STIFF` calls to choose a tolerance different from the default one.\n",
    "\n",
    "You do not need to modify this cell, but you should understand\n",
    "the variables passed to and returned from this function.\n"
   ]
  },
  {
   "cell_type": "code",
   "execution_count": 14,
   "metadata": {
    "scrolled": false,
    "ExecuteTime": {
     "end_time": "2024-05-10T10:25:04.289436Z",
     "start_time": "2024-05-10T10:25:04.276912Z"
    }
   },
   "outputs": [],
   "source": [
    "#cell #15\n",
    "\n",
    "class RKDP5:\n",
    "    \"\"\"\n",
    "    Class to integrate the system of ODEs given by y'(x,y)=dydx(x,y)\n",
    "    with initial condition y(a)=y0 from a to b using the\n",
    "    4th/5th-order Dormand-Prince Runge-Kutta method with\n",
    "    automatic stepsize adjustment controlled by tolerance tol.\n",
    "    Call like:\n",
    "\n",
    "    rk5_instance = RKDP5(dydx, initial_y, start_point_x, end_point_x)\n",
    "    rk5_instance.integrate()\n",
    "    result = rk5_instance.result()\n",
    "    \"\"\"\n",
    "\n",
    "    def __init__(self, dydx, initial_y, start_point_x, end_point_x, tol=1e-6, nsteps=100000):\n",
    "        self.dydx = dydx\n",
    "        self.start_point_x = start_point_x\n",
    "        self.end_point_x = end_point_x\n",
    "        self.initial_y = initial_y\n",
    "        self.tol = tol\n",
    "        self.nsteps = nsteps\n",
    "\n",
    "        #initialize the number of function calls\n",
    "        self.num_good_steps = 0\n",
    "        self.num_bad_steps = 0\n",
    "        self.num_function_calls = 0\n",
    "\n",
    "        #initialize the solver\n",
    "        self.solver = ode(self.function_checker)\n",
    "        self.initialize_solver()\n",
    "\n",
    "        #initialize the results array\n",
    "        self.xa = []\n",
    "        self.ya = []\n",
    "        self.xa.append(start_point_x)\n",
    "        self.ya.append(initial_y)\n",
    "\n",
    "    def reset_counter(self):\n",
    "        \"\"\"reset the number of function call counters\"\"\"\n",
    "        self.num_good_steps = 0\n",
    "        self.num_bad_steps = 0\n",
    "        self.num_function_calls = 0\n",
    "        self.xa = []\n",
    "        self.ya = []\n",
    "\n",
    "    def function_checker(self, x, y):\n",
    "        \"\"\"Checks whether the integrator backtracks\n",
    "        (indicating that the accuracy was too low\n",
    "        and thus the step was bad)\"\"\"\n",
    "        self.countsteps()\n",
    "        if x < self.start_point_x:\n",
    "            self.badstep()\n",
    "        self.start_point_x = x\n",
    "        return self.dydx(x, y)\n",
    "\n",
    "    def countsteps(self):\n",
    "        self.num_function_calls += 1\n",
    "\n",
    "    def goodstep(self, x, y):\n",
    "        \"\"\"If we have performed a good step\"\"\"\n",
    "        self.num_good_steps += 1\n",
    "        self.xa.append(x)\n",
    "        self.ya.append(np.copy(y))\n",
    "\n",
    "    def badstep(self):\n",
    "        \"\"\"If we have encountered a bad step\"\"\"\n",
    "        self.num_bad_steps += 1\n",
    "\n",
    "    def initialize_solver(self, initial_y=None):\n",
    "        \"\"\"initialize the scipy ODE solver\"\"\"\n",
    "        if initial_y is None:\n",
    "            initial_y = self.initial_y\n",
    "\n",
    "        self.solver.set_integrator('dopri5', rtol=self.tol, atol=1e-15, nsteps=self.nsteps, verbosity=0, first_step=1.)\n",
    "        self.solver.set_solout(self.goodstep)\n",
    "        self.solver.set_initial_value(self.initial_y, t=self.start_point_x)\n",
    "\n",
    "    def integrate(self, end_point_x=None):\n",
    "        if end_point_x is None:\n",
    "            end_point_x = self.end_point_x\n",
    "        print(\"rkdp5:\")\n",
    "        self.solver.integrate(end_point_x)\n",
    "        print(\": \",self.num_function_calls,\"calls of function\")\n",
    "        print(\": \",self.num_good_steps,\"good steps\")\n",
    "        print(\": \",self.num_bad_steps,\"rejected steps\")\n",
    "        print(\": \",self.num_good_steps+self.num_bad_steps,\"total steps\")\n",
    "\n",
    "    def result(self):\n",
    "        return np.array(self.xa), np.array(self.ya), self.num_function_calls, self.num_good_steps, self.num_bad_steps, self.num_good_steps + self.num_bad_steps\n",
    "\n",
    "\n",
    "class STIFF:\n",
    "    \"\"\"\n",
    "    Class to integrate the system of ODEs given by y'(x,y)=dydx(x,y)\n",
    "    with initial condition y(a)=y0 from a to b using a\n",
    "    solver based on backward differentiation formulas with\n",
    "    automatic stepsize adjustment controlled by tolerance tol.\n",
    "    Call like:\n",
    "\n",
    "    stiff_instance = STIFF(dydx, jacobian, initial_y, start_point_x, end_point_x)\n",
    "    stiff_instance.integrate()\n",
    "    result = stiff_instance.result()\n",
    "    \"\"\"\n",
    "\n",
    "    def __init__(self, dydx, jacobian, initial_y, start_point_x, end_point_x, tol=1e-6, nsteps=10000):\n",
    "        self.dydx = dydx\n",
    "        self.jacobian = jacobian\n",
    "        self.start_point_x = start_point_x\n",
    "        self.end_point_x = end_point_x\n",
    "        self.initial_y = initial_y\n",
    "        self.tol = tol\n",
    "        self.nsteps = nsteps\n",
    "\n",
    "        #initialize the number of function calls\n",
    "        self.num_good_steps = 0\n",
    "        self.num_bad_steps = 0\n",
    "        self.num_function_calls = 0\n",
    "        self.num_jacobian_calls = 0\n",
    "\n",
    "        #initialize the solver\n",
    "        self.solver = ode(self.function_checker, self.call_count_jacobias)\n",
    "        self.solver.set_integrator('vode', method='bdf', rtol=self.tol, atol=1e-15, nsteps=self.nsteps)\n",
    "        self.solver.set_initial_value(self.initial_y, t=self.start_point_x)\n",
    "\n",
    "        #initialize the results array\n",
    "        self.xa = []\n",
    "        self.ya = []\n",
    "        self.xa.append(start_point_x)\n",
    "        self.ya.append(initial_y)\n",
    "\n",
    "    def function_checker(self, x, y):\n",
    "        \"\"\"Checks whether the integrator backtracks\n",
    "        (indicating that the accuracy was too low\n",
    "        and thus the step was bad)\"\"\"\n",
    "        self.count_function_calls()\n",
    "        if x <= self.start_point_x:\n",
    "            self.badstep()\n",
    "        self.start_point_x = x\n",
    "        return self.dydx(x, y)\n",
    "\n",
    "    def count_function_calls(self):\n",
    "        self.num_function_calls += 1\n",
    "\n",
    "    def call_count_jacobias(self, x, y):\n",
    "        self.num_jacobian_calls += 1\n",
    "        return self.jacobian(x, y)\n",
    "\n",
    "    def goodstep(self, x, y):\n",
    "        \"\"\"If we have performed a good step\"\"\"\n",
    "        self.num_good_steps +=1\n",
    "        self.xa.append(x)\n",
    "        self.ya.append(np.copy(y))\n",
    "\n",
    "    def badstep(self):\n",
    "        \"\"\"If we have encountered a bad step\"\"\"\n",
    "        self.num_bad_steps += 1\n",
    "\n",
    "    def integrate(self, end_point_x=None):\n",
    "        if end_point_x is None:\n",
    "            end_point_x = self.end_point_x\n",
    "        self.num_good_steps = 0\n",
    "\n",
    "        print(\"stiff:\")\n",
    "        while self.solver.successful() and self.solver.t < end_point_x:\n",
    "            self.solver.integrate(self.end_point_x, step=True)\n",
    "            self.goodstep(self.solver.t, self.solver.y)\n",
    "        print(\": \",self.num_function_calls,\"calls of function\")\n",
    "        print(\": \",self.num_jacobian_calls,\"calls of jacobian\")\n",
    "        print(\": \",self.num_good_steps,\"good steps\")\n",
    "        print(\": \",self.num_bad_steps,\"rejected steps\")\n",
    "        print(\": \",self.num_good_steps+self.num_bad_steps,\"total steps\")\n",
    "\n",
    "    def result(self):\n",
    "        return np.array(self.xa), np.array(self.ya), self.num_function_calls, self.num_good_steps, self.num_bad_steps, self.num_good_steps + self.num_bad_steps\n"
   ]
  },
  {
   "cell_type": "markdown",
   "metadata": {
    "scrolled": false
   },
   "source": [
    "#### Exercise&nbsp;7: Call the adaptive-stepsize Runge-Kutta and the &ldquo;stiff&rdquo; integrators\n",
    "\n",
    "Repeat the previous exercise with the adaptive-stepsize Runge-Kutta\n",
    "and the &ldquo;stiff&rdquo; integrators.\n",
    "How do they compare to the results from the RK4 integrator using 1000 steps?\n",
    "\n",
    "Note that you also need to define a function that returns the\n",
    "Jacobian of the system for use by the &ldquo;stiff&rdquo; integrator.\n"
   ]
  },
  {
   "cell_type": "code",
   "execution_count": 15,
   "metadata": {
    "scrolled": false,
    "ExecuteTime": {
     "end_time": "2024-05-10T10:25:05.555854Z",
     "start_time": "2024-05-10T10:25:05.542337Z"
    }
   },
   "outputs": [
    {
     "name": "stdout",
     "output_type": "stream",
     "text": [
      "stiff:\n",
      ":  292 calls of function\n",
      ":  5 calls of jacobian\n",
      ":  271 good steps\n",
      ":  20 rejected steps\n",
      ":  291 total steps\n",
      "rkdp5:\n",
      ":  655 calls of function\n",
      ":  107 good steps\n",
      ":  3 rejected steps\n",
      ":  110 total steps\n"
     ]
    }
   ],
   "source": [
    "#cell #16\n",
    "\n",
    "def p1_jac(x,y):\n",
    "    return [[2.5]]\n",
    "\n",
    "stiff_instance = STIFF(problem1_dydx, p1_jac, [0.001], 0, 10)\n",
    "stiff_instance.integrate()\n",
    "result = stiff_instance.result()\n",
    "x_stiff = result[0]\n",
    "y_stiff = result[1]\n",
    "\n",
    "rk5_instance = RKDP5(problem1_dydx, [0.001], 0, 10)\n",
    "rk5_instance.integrate()\n",
    "result_rk5 = rk5_instance.result()\n",
    "x_rk5 = result_rk5[0]\n",
    "y_rk5 = result_rk5[1]\n"
   ]
  },
  {
   "cell_type": "code",
   "execution_count": 17,
   "metadata": {
    "scrolled": false,
    "ExecuteTime": {
     "end_time": "2024-05-10T10:25:16.930880Z",
     "start_time": "2024-05-10T10:25:16.911781Z"
    }
   },
   "outputs": [],
   "source": [
    "#cell #17\n",
    "\n",
    "# compare rk5 with rk4\n",
    "plot_6 = False\n",
    "\n",
    "# compare rk5 with stiff\n",
    "plot_7 = False\n",
    "\n",
    "# show a plot comparing the relative errors of RK4 (1000 steps) with adaptive RK5\n",
    "# and stiff integrator.\n",
    "plot_8 = False\n",
    "\n",
    "if plot_6:\n",
    "    plt.plot(x_euler_stepsize_1000, y_analytic_stepsize_1000, '-', color=red, lw=2, label=\"Exact solution\")\n",
    "    \n",
    "    plt.plot(x_rk4_stepsize_1000, y_rk4_stepsize_1000.flatten(), \".\", color=\"blue\", label=\"RK4, stepsize $1000$\", markersize=8)\n",
    "    \n",
    "    plt.plot(x_rk5, y_rk5.flatten(), \".\", color=\"orange\", label=\"Adaptive RK5\", markersize=8)\n",
    "    \n",
    "    plt.xlabel(\"$x$\")\n",
    "    plt.ylabel(\"$y(x)$\")\n",
    "    \n",
    "    plt.suptitle(r\"For the differential equation $y^{\\prime}=2.5y$ with initial condition $y(0)=0.001$.\"+ \"\\nThe RK4 is run on $1000$ steps.\")\n",
    "    plt.title(\"Comparison of RK4 and adaptive RK5\")\n",
    "    plt.legend()\n",
    "    plt.savefig(\"figures/after_exercise_7/comparison_of_rk5_and_rk4\")\n",
    "\n",
    "if plot_7:\n",
    "    \n",
    "    plt.plot(x_euler_stepsize_1000, y_analytic_stepsize_1000, '-', color=red, lw=2, label=\"Exact solution\")\n",
    "    \n",
    "    plt.plot(x_stiff, y_stiff.flatten(), \".\", color=\"black\", label=\"Stiff integrator\", markersize=8)\n",
    "    \n",
    "    plt.plot(x_rk5, y_rk5.flatten(), \".\", color=\"orange\", label=\"Adaptive RK5\", markersize=8)\n",
    "    \n",
    "    plt.xlabel(\"$x$\")\n",
    "    plt.ylabel(\"$y(x)$\")\n",
    "    \n",
    "    plt.suptitle(r\"For the differential equation $y^{\\prime}=2.5y$ with initial condition $y(0)=0.001$\")\n",
    "    plt.title(\"Comparison of adaptive RK5 and 'stiff' integrator\")\n",
    "    \n",
    "    plt.legend()\n",
    "    plt.savefig(\"figures/after_exercise_7/comparison_rk5_and_stiff\")\n",
    "    \n",
    "if plot_8:\n",
    "    \n",
    "    rel_err_rk4_100 = np.abs(100 * rel_err(y_rk_stepsize_100.flatten(), y_analytic_stepsize_100))\n",
    "    \n",
    "    rel_err_rk4_1000 = np.abs(100 * rel_err(y_rk4_stepsize_1000.flatten(), y_analytic_stepsize_1000))\n",
    "    \n",
    "    y_analytic_for_rk5 = problem1_analytic_solution(x_rk5)\n",
    "    rel_err_rk5 = np.abs(100 * rel_err(y_rk5.flatten(), y_analytic_for_rk5))\n",
    "    \n",
    "    y_analytic_for_stiff = problem1_analytic_solution(x_stiff)\n",
    "    rel_err_stiff = np.abs(100 * rel_err(y_stiff.flatten(), y_analytic_for_stiff))\n",
    "    \n",
    "    plt.plot(x_rk4_stepsize_1000, rel_err_rk4_1000, \"-\", lw=2, color=\"blue\", label=\"RK4 ($1000$ steps)\")\n",
    "    \n",
    "    plt.plot(x_rk4_stepsize_100, rel_err_rk4_100, \"-\", lw=2, color=\"blue\", label=\"RK4 ($100$ steps) (discontinued)\", alpha=0.5)\n",
    "    \n",
    "    plt.plot(x_rk5, rel_err_rk5, \"-\", lw=2, color=\"orange\", label=\"Adaptive RK5\")\n",
    "    \n",
    "    plt.plot(x_stiff, rel_err_stiff, \"-\", lw=2, color=\"black\", label=\"Stiff integrator\")\n",
    "    \n",
    "    plt.legend()\n",
    "    \n",
    "    plt.ylabel(r\"$\\mid \\varepsilon_{\\mathrm{rel}}(x) \\mid$ in $\\%$ (!)\")\n",
    "    \n",
    "    plt.suptitle(r\"For the differential equation $y^{\\prime}=2.5y$ with initial condition $y(0)=0.001$.\" +\"\\nThe relative distance is the pointwise relative difference between the approximation and the real solution.\" +\"\\nThe RK4 method used 1000 steps.\")\n",
    "    \n",
    "    plt.title(\"Modulus of relative error of RK4, RK5 and stiff method\")\n",
    "    plt.yscale(\"log\")\n",
    "    # plt.savefig(\"figures/after_exercise_7/comparison_of_rel_errors_rk4_rk5_stiff\")\n",
    "    plt.show()\n",
    "\n",
    "\n",
    "\n",
    "# and the relative errors.\n"
   ]
  },
  {
   "cell_type": "code",
   "execution_count": 17,
   "outputs": [],
   "source": [],
   "metadata": {
    "collapsed": false,
    "ExecuteTime": {
     "end_time": "2024-05-10T10:25:17.842041Z",
     "start_time": "2024-05-10T10:25:17.832363Z"
    }
   }
  },
  {
   "cell_type": "markdown",
   "metadata": {
    "scrolled": false
   },
   "source": [
    "### Problem&nbsp;1.4\n",
    "\n",
    "#### Exercise&nbsp;8: Accuracy of the other integrators\n",
    "\n",
    "By varying the tolerance parameter,\n",
    "find the number of steps the adaptive-stepsize integrators need\n",
    "to obtain the same accuracy as the RK4 integrator with 1000 steps.\n",
    "How does the requested tolerance compare with the actually achieved accuracy?\n",
    "How does the accuracy of the adaptive-stepsize integrators compare\n",
    "to that of RK4 if the same number of steps is used?\n"
   ]
  },
  {
   "cell_type": "code",
   "execution_count": 18,
   "metadata": {
    "scrolled": false,
    "ExecuteTime": {
     "end_time": "2024-05-10T10:25:18.847953Z",
     "start_time": "2024-05-10T10:25:18.837830Z"
    }
   },
   "outputs": [
    {
     "name": "stdout",
     "output_type": "stream",
     "text": [
      "stiff:\n",
      ":  973 calls of function\n",
      ":  16 calls of jacobian\n",
      ":  951 good steps\n",
      ":  21 rejected steps\n",
      ":  972 total steps\n",
      "rkdp5:\n",
      ":  1453 calls of function\n",
      ":  240 good steps\n",
      ":  3 rejected steps\n",
      ":  243 total steps\n"
     ]
    }
   ],
   "source": [
    "#cell #18\n",
    "# SHADOWING PRIOR VARIABLES\n",
    "# Strategy: Plot relative error diagram until curves meet.\n",
    "\n",
    "base_tol = 1e-6\n",
    "\n",
    "fac_rk5 = 50\n",
    "fac_stiff = 2750\n",
    "\n",
    "tol_rk5 = base_tol / fac_rk5\n",
    "tol_stiff = base_tol / fac_stiff\n",
    "\n",
    "stiff_instance = STIFF(problem1_dydx, p1_jac, [0.001], 0, 10, tol=tol_stiff)\n",
    "stiff_instance.integrate()\n",
    "result = stiff_instance.result()\n",
    "x_stiff = result[0]\n",
    "y_stiff = result[1]\n",
    "\n",
    "rk5_instance = RKDP5(problem1_dydx, [0.001], 0, 10, tol=tol_rk5)\n",
    "rk5_instance.integrate()\n",
    "result_rk5 = rk5_instance.result()\n",
    "x_rk5 = result_rk5[0]\n",
    "y_rk5 = result_rk5[1]\n",
    "\n",
    "plot_9 = False  #  copy of plot_8\n",
    "\n",
    "if plot_9: \n",
    "    \n",
    "    rel_err_rk4_1000 = np.abs(100 * rel_err(y_rk4_stepsize_1000.flatten(), y_analytic_stepsize_1000))\n",
    "    \n",
    "    y_analytic_for_rk5 = problem1_analytic_solution(x_rk5)\n",
    "    rel_err_rk5 = np.abs(100 * rel_err(y_rk5.flatten(), y_analytic_for_rk5))\n",
    "    \n",
    "    y_analytic_for_stiff = problem1_analytic_solution(x_stiff)\n",
    "    rel_err_stiff = np.abs(100 * rel_err(y_stiff.flatten(), y_analytic_for_stiff))\n",
    "    \n",
    "    plt.plot(x_rk4_stepsize_1000, rel_err_rk4_1000, \"-\", lw=2, color=\"blue\", label=\"RK4 ($1000$ steps)\")\n",
    "    \n",
    "    plt.plot(x_rk5, rel_err_rk5, \"-\", lw=2, color=\"orange\", label=\"Adaptive RK5\")\n",
    "    \n",
    "    plt.plot(x_stiff, rel_err_stiff, \"-\", lw=2, color=\"black\", label=\"Stiff integrator\")\n",
    "    \n",
    "    plt.legend()\n",
    "    \n",
    "    plt.ylabel(r\"$\\mid \\varepsilon_{\\mathrm{rel}}(x) \\mid$ in $\\%$ (!)\")\n",
    "    \n",
    "    plt.suptitle(r\"For the differential equation $y^{\\prime}=2.5y$ with initial condition $y(0)=0.001$.\" +\"\\nThe relative distance is the pointwise relative difference between the approximation and the real solution.\" +\"\\nThe RK4 method used 1000 steps.\" + \n",
    "                 f\"\\n Tolerance fac (=! tol) of RK5 / stiff: {fac_rk5}, {fac_stiff}\")\n",
    "    \n",
    "    plt.title(\"Modulus of relative error of RK4, RK5 and stiff method\")\n",
    "    plt.savefig(\"figures/after_exercise_7/adjusting_tol_for_rk5_and_stiff\")\n"
   ]
  },
  {
   "cell_type": "markdown",
   "metadata": {
    "scrolled": false
   },
   "source": [
    "### Problem&nbsp;1.5\n",
    "\n",
    "Summarize the results you obtained for Problem&nbsp;1.\n",
    "Which integrator would you trust most, and why?\n",
    "\n",
    "We would trust the adaptive RK5,\n",
    "because it does error control (choosing an ill step-size in RK4 => very bad)\n",
    "but also can achieve similiar accuracy with A LOT less number of steps than RK4 ;\n",
    "Also it doesnt need such a small tolerance parameter as in the stiff integrator. \n"
   ]
  },
  {
   "cell_type": "markdown",
   "metadata": {
    "scrolled": false
   },
   "source": [
    "## Problem&nbsp;2 &mdash; Coupled differential equations\n",
    "\n",
    "We can also solve coupled differential equations, such as\n",
    "\n",
    "$\\partial_x y_1 =  998y_1 + 1998y_2$\n",
    "\n",
    "$\\partial_x y_2 = -999y_1 - 1999y_2$\n",
    "\n",
    "with initial conditions $y_1(0)=1$ and $y_2(0)=0$.\n",
    "\n",
    "To solve such a system with our above solvers,\n",
    "we must simply provide a `dydx`-function that returns\n",
    "a vector of values, one element for each equation in the system.\n",
    "Similarly, we must provide a vector of initial values.\n",
    "\n",
    "That means, our to be solved state vector is: \n",
    "\n",
    "$$\\vec{y} = (y_1, y_2)^t$$\n",
    "\n",
    "and its derivative is \n",
    "\n",
    "$$ \\dot{\\vec{y}} = (998y_1 + 1998y_2, -999y_1 - 1999y_2)^t $$\n",
    "\n",
    "and the initial vector is \n",
    "\n",
    "$$ \\vec{y}(t=0) = (1, 0)^t $$\n",
    "\n",
    "The actual solutions are \n",
    "\n",
    "$$ y_1 = -e^{-1000t}+2e^{-t} $$\n",
    "$$ y_2 = e^{-1000t}-e^{-t} $$\n"
   ]
  },
  {
   "cell_type": "markdown",
   "metadata": {
    "scrolled": false
   },
   "source": [
    "#### Exercise&nbsp;9 (Advanced)\n",
    "\n",
    "Solve the above problem analytically. \n",
    "Remember the solution ansatz for such homogeneous DEs with constant coefficients:\n",
    "$\\mathbf{y}=\\mathbf{v}\\exp(\\lambda x)$.\n",
    "Inserting this ansatz into the DE, you should be able to derive the general solution,\n",
    "and, using the initial condition, the specific one.\n",
    "(Hint: as an intermediate result, you should find the eigenvalues of\n",
    "$\\mathbf{A}$ as $\\lambda_{1,2}=(-1,-1000)$.)\n"
   ]
  },
  {
   "cell_type": "markdown",
   "metadata": {
    "scrolled": false
   },
   "source": [
    "#cell #20\n",
    "\n",
    "Your solution goes here. Do this in the lab report!"
   ]
  },
  {
   "cell_type": "markdown",
   "metadata": {
    "scrolled": false
   },
   "source": [
    "### Problem&nbsp;2.1\n",
    "\n",
    "#### Exercise&nbsp;10\n",
    "\n",
    "Solve the above system over the interval [0,4] with all 4 integrators.\n",
    "For the fixed-step integrators use 10000 steps,\n",
    "for the others a tolerance of $10^{-5}$.\n",
    "Plot and compare the relative errors as well.\n",
    "How many steps do RKDP5 and stiff need?\n"
   ]
  },
  {
   "cell_type": "code",
   "execution_count": 23,
   "metadata": {
    "scrolled": false,
    "ExecuteTime": {
     "end_time": "2024-05-10T10:26:38.663628Z",
     "start_time": "2024-05-10T10:26:38.360416Z"
    }
   },
   "outputs": [
    {
     "name": "stdout",
     "output_type": "stream",
     "text": [
      "Euler method called.\n",
      "\n",
      "  10000 calls of function\n",
      "\n",
      "  10000 steps\n",
      "rk4 called.\n",
      "\n",
      "  40000 calls of function\n",
      "\n",
      "  10000 steps\n",
      "stiff:\n",
      ":  123 calls of function\n",
      ":  2 calls of jacobian\n",
      ":  97 good steps\n",
      ":  26 rejected steps\n",
      ":  123 total steps\n",
      "rkdp5:\n",
      ":  7357 calls of function\n",
      ":  1220 good steps\n",
      ":  7 rejected steps\n",
      ":  1227 total steps\n",
      "  THE PROBLEM SEEMS TO BECOME STIFF AT X =    3.3208264031342565     \n"
     ]
    }
   ],
   "source": [
    "#cell #21\n",
    "\n",
    "# IN GENERAL SHADOWING VARIABLE NAMES HERE \n",
    "\n",
    "coupled_dfe_a = 0.\n",
    "coupled_dfe_b = 4.\n",
    "coupled_dfe_y0 = [1., 0.]\n",
    "num_of_steps = 10000\n",
    "tol_integrators = 10e-5\n",
    "\n",
    "def analytic_solution_to_coupled_dfe(time):\n",
    "    t = time\n",
    "    y1 = -np.exp(-1000*t) + 2*np.exp(-1*t) \n",
    "    y2 = np.exp(-1000*t) - np.exp(-1*t)\n",
    "    return np.array([y1, y2])\n",
    "\n",
    "def derivative_of_coupled_dfe(x,y):\n",
    "    y1, y2 = y\n",
    "    f1 = 998 * y1 + 1998 * y2\n",
    "    f2 = -999 * y1 - 1999 * y2\n",
    "    return np.array([f1, f2])\n",
    "\n",
    "def jacobian_of_coupled_dfe(x,y):\n",
    "    \"\"\"\n",
    "    The jacobian is a 2x2 matrix with the following entries:\n",
    "    df_1 / dy_1  df_1 / dy_2\n",
    "    df_2 / dy_1  df_2 / dy_2\n",
    "    \n",
    "    \"\"\"\n",
    "    return [[998, 1998],[-999, -1999]]\n",
    "\n",
    "def extract_vector(y_solution):\n",
    "    q1 = y_solution[:,0]\n",
    "    q2 = y_solution[:,1]\n",
    "    return q1, q2\n",
    "\n",
    "\n",
    "x_euler_coupled_dfe, y_euler_coupled_dfe = eul(dydx=derivative_of_coupled_dfe,\n",
    "                                                   y0=coupled_dfe_y0, \n",
    "                                                   a=coupled_dfe_a, \n",
    "                                                   b=coupled_dfe_b, \n",
    "                                                   n=num_of_steps)\n",
    "y1_euler_coupled_dfe, y2_euler_coupled_dfe = extract_vector(y_euler_coupled_dfe)\n",
    "\n",
    "x_rk4_coupled_dfe, y_rk4_coupled_dfe = rk4(dydx=derivative_of_coupled_dfe, y0=coupled_dfe_y0, a=coupled_dfe_a, b=coupled_dfe_b, n=num_of_steps)\n",
    "y1_rk4_coupled_dfe, y2_rk4_coupled_dfe = extract_vector(y_rk4_coupled_dfe)\n",
    "\n",
    "\n",
    "stiff_instance = STIFF(derivative_of_coupled_dfe, jacobian_of_coupled_dfe, coupled_dfe_y0, coupled_dfe_a, coupled_dfe_b, tol=tol_integrators)\n",
    "stiff_instance.integrate()\n",
    "result = stiff_instance.result()\n",
    "x_stiff = result[0]\n",
    "y_stiff = result[1]\n",
    "\n",
    "y1_stiff_coupled_dfe, y2_stiff_coupled_dfe = extract_vector(y_stiff)\n",
    "\n",
    "rk5_instance = RKDP5(derivative_of_coupled_dfe, coupled_dfe_y0, coupled_dfe_a, coupled_dfe_b, tol=tol_integrators)\n",
    "rk5_instance.integrate()\n",
    "result_rk5 = rk5_instance.result()\n",
    "x_rk5 = result_rk5[0]\n",
    "y_rk5 = result_rk5[1]\n",
    "\n",
    "y1_rk5_coupled_dfe, y2_rk5_coupled_dfe = extract_vector(y_rk5)\n",
    "\n",
    "plot_bar_chart_of_steps = False\n",
    "if plot_bar_chart_of_steps:\n",
    "    fig, ax1 = plt.subplots()\n",
    "    plt.title(\"Total steps taken vs. final and mean relative error on $y_1(x)$\")\n",
    "    ax1.bar([\"Stiff\", \"RK5\", \"RK4\",\"Euler\"], [123, 1220, 10000, 10000,], color=blue)\n",
    "    ax1.set_ylabel(\"Steps taken\")\n",
    "    ax2 = ax1.twinx()  # instantiate a second axes that shares the same x-axis\n",
    "    \n",
    "    ax2.plot([0.07998933119803936, 1.325977696503589e-13, 0.0006010980843505017, 0.19286882435413613], \"-\", color=red, label=\"Error at end of integration\")\n",
    "    ax2.plot([0.043134877018698274, 4.25450105767177e-06, 0.003017496152282621, 0.0271459794410851],\n",
    "             \"-\", color=green, label=\"Arithmetic mean of error\")\n",
    "    ax2.set_ylabel(r\"$\\varepsilon_{\\mathrm{rel}}$ in $\\%$\")\n",
    "    fig.tight_layout()  # otherwise the right y-label is slightly clipped\n",
    "    plt.legend()\n",
    "    plt.savefig(\"figures/after_exercise_9/final_relative_errors_vs_step_size\")"
   ]
  },
  {
   "cell_type": "code",
   "execution_count": 22,
   "metadata": {
    "scrolled": false,
    "ExecuteTime": {
     "end_time": "2024-05-10T10:26:05.186829Z",
     "start_time": "2024-05-10T10:26:01.416118Z"
    }
   },
   "outputs": [
    {
     "name": "stderr",
     "output_type": "stream",
     "text": [
      "/var/folders/9y/tnqj0p6s0mjcnrh409r__5l40000gn/T/ipykernel_5736/2864235193.py:12: RuntimeWarning: invalid value encountered in divide\n",
      "  y_approx_norm = (y_approx - y_exact) / y_exact\n"
     ]
    }
   ],
   "source": [
    " #cell #22\n",
    "# Solve the coupled differential equations with different integrators\n",
    "plot_9 = False\n",
    "if plot_9:\n",
    "    plt.suptitle(r\"Differential equation: $\\dot{\\vec{y}}=(998y_1 + 1998y_2, -999y_1 - 1999y_2)^t$.\" + \"\" + r\"Initial values: $\\vec{y}_0=(1,0)$.\")\n",
    "    plt.title(\"Solution of coupled ODE\")\n",
    "    plt.subplot(2, 1, 1)\n",
    "    plt.plot(x_euler_coupled_dfe, y1_euler_coupled_dfe, color=green, ls=\"-\", lw=2, label=\"$10.000$ steps Euler Integrator\")\n",
    "    plt.plot(x_rk4_coupled_dfe, y1_rk4_coupled_dfe, color=blue, ls=\"-\", lw=2, label=\"$10.000$ steps classic RK4\")\n",
    "    plt.plot(x_stiff, y1_stiff_coupled_dfe, color=\"black\", ls=\"-\", lw=2, label=\"Stiff Integrator\")\n",
    "    plt.plot(x_rk5, y1_rk5_coupled_dfe, color=\"orange\", ls=\"-\", lw=2, label=\"Adaptive step size RK5\")\n",
    "    \n",
    "    plt.ylabel(\"$y_1(x)$\")\n",
    "    plt.legend()\n",
    "    \n",
    "    plt.subplot(2, 1, 2)\n",
    "    plt.plot(x_euler_coupled_dfe, y2_euler_coupled_dfe, color=green, ls=\"-\", lw=2, )\n",
    "    plt.plot(x_rk4_coupled_dfe, y2_rk4_coupled_dfe, color=blue, ls=\"-\", lw=2, )\n",
    "    plt.plot(x_stiff, y2_stiff_coupled_dfe, color=\"black\", ls=\"-\", lw=2, )\n",
    "    plt.plot(x_rk5, y2_rk5_coupled_dfe, color=\"orange\", ls=\"-\", lw=2, )\n",
    "    \n",
    "    plt.ylabel(\"$y_2(x)$\")\n",
    "    plt.xlabel(\"$x$\")\n",
    "    plt.savefig(\"figures/after_exercise_9/solution_of_coupled_dfe_with_four_integrators\")\n",
    "    \n",
    "    \n",
    "y1_analytic_for_rk5, y2_analytic_for_rk5 = analytic_solution_to_coupled_dfe(x_rk5)\n",
    "y1_analytic_for_stiff, y2_analytic_for_stiff = analytic_solution_to_coupled_dfe(x_stiff)\n",
    "y1_analytic_for_euler_and_rk4, y2_analytic_for_euler_and_rk4 = analytic_solution_to_coupled_dfe(x_euler_coupled_dfe)\n",
    "\n",
    "y1_rel_err_euler = np.abs(100 * rel_err(y1_euler_coupled_dfe.flatten(), y1_analytic_for_euler_and_rk4))\n",
    "y1_rel_err_rk4 = np.abs(100 * rel_err(y1_rk4_coupled_dfe.flatten(), y1_analytic_for_euler_and_rk4))\n",
    "y1_rel_err_rk5 = np.abs(100 * rel_err(y1_rk5_coupled_dfe.flatten(), y1_analytic_for_rk5))\n",
    "y1_rel_err_stiff = np.abs(100 * rel_err(y1_stiff_coupled_dfe.flatten(), y1_analytic_for_stiff))\n",
    "\n",
    "y2_rel_err_euler = np.abs(100 * rel_err(y2_euler_coupled_dfe.flatten(), y2_analytic_for_euler_and_rk4))\n",
    "y2_rel_err_rk4 = np.abs(100 * rel_err(y2_rk4_coupled_dfe.flatten(), y2_analytic_for_euler_and_rk4))\n",
    "y2_rel_err_rk5 = np.abs(100 * rel_err(y2_rk5_coupled_dfe.flatten(), y2_analytic_for_rk5))\n",
    "y2_rel_err_stiff = np.abs(100 * rel_err(y2_stiff_coupled_dfe.flatten(), y2_analytic_for_stiff))\n",
    "\n",
    "# Compare the result's relative errors. Copy of plot_8 code\n",
    "plot_10 = False\n",
    "if plot_10:\n",
    "    \n",
    "    \n",
    "    fig, axes = plt.subplots(nrows=2, ncols=1, sharex=True, sharey=True)\n",
    "    ax1, ax2 = axes.flatten()\n",
    "\n",
    "    fig.suptitle(r\"Differential equation: $\\dot{\\vec{y}}=(998y_1 + 1998y_2, -999y_1 - 1999y_2)^t$.\" + \"\" + r\"Initial values: $\\vec{y}_0=(1,0)$.\"+ \"\\nThe stiff integrator is not shown after the cutoff; its error grows linearly thereafter.\")\n",
    "    ax1.set_title(\"Modulus of relative error of RK4, RK5 and stiff method\")\n",
    "    \n",
    "    ax1.plot(x_euler_coupled_dfe, y1_rel_err_euler, \"-\", lw=2, color=green, label=\"$10.000$ steps Euler\")\n",
    "    ax1.plot(x_rk4_coupled_dfe, y1_rel_err_rk4, \"-\", lw=2, color=blue, label=\"$10.000$ steps RK4\")\n",
    "    ax1.plot(x_rk5, y1_rel_err_rk5, \"-\", lw=2, color=\"orange\", label=\"Adaptive RK5\")\n",
    "    \n",
    "    ax1.plot(x_stiff, y1_rel_err_stiff, \"-\", lw=2, color=\"black\", label=\"Stiff integrator\")\n",
    "    ax1.set_ylabel(r\"$\\mid \\varepsilon_{\\mathrm{rel}}(x) \\mid$ for $y_1(x)$ in $\\%$ (!)\", labelpad=20, fontsize=12)\n",
    "    ax1.legend()\n",
    "    ax1.set_yscale(\"log\")\n",
    "    \n",
    "    plt.subplot(2, 1, 2,)\n",
    "    \n",
    "    ax2.set_xlabel(\"$x$\")\n",
    "    ax2.plot(x_euler_coupled_dfe, y2_rel_err_euler, \"-\", lw=2, color=green, label=\"$10.000$ steps Euler\")\n",
    "    ax2.plot(x_rk4_coupled_dfe, y2_rel_err_rk4, \"-\", lw=2, color=blue, label=\"$10.000$ steps RK4\")\n",
    "    ax2.plot(x_rk5, y2_rel_err_rk5, \"-\", lw=2, color=\"orange\", label=\"Adaptive RK5\")\n",
    "    ax2.plot(x_stiff, y2_rel_err_stiff, \"-\", lw=2, color=\"black\", label=\"Stiff integrator\")\n",
    "    \n",
    "    ax2.set_ylabel(r\"$\\mid \\varepsilon_{\\mathrm{rel}}(x) \\mid$ for $y_2(x)$ in $\\%$ (!)\", labelpad=20, fontsize=12)\n",
    "    ax2.set_yscale(\"log\")\n",
    "    \n",
    "    plt.legend()\n",
    "    plt.tight_layout()\n",
    "    print(\"\\n Relative errors at last positions: Euler, rk4, rk5, stiff: \", np.mean(y1_rel_err_euler),\n",
    "          np.mean(y1_rel_err_rk4), np.mean(y1_rel_err_rk5), np.mean(y1_rel_err_stiff))\n",
    "    \n",
    "    plt.savefig(\"figures/after_exercise_9/comparison_of_rel_errors_rk4_rk5_stiff\")\n",
    "    \n",
    "    \n",
    "\n",
    "    \n",
    "# Copy of plot_10, without the stiff integrator\n",
    "plot_11 = True\n",
    "if plot_11:\n",
    "    \n",
    "    plt.subplot(1, 2, 1,)\n",
    "\n",
    "    plt.suptitle(r\"Differential equation: $\\dot{\\vec{y}}=(998y_1 + 1998y_2, -999y_1 - 1999y_2)^t$.\" + \"\" + r\"Initial values: $\\vec{y}_0=(1,0)$.\")\n",
    "\n",
    "    plt.xlabel(\"$x$ (beginning)\")\n",
    "    plot_the_first = 50\n",
    "\n",
    "    region_at_beginning_1 = np.where(x_rk4_coupled_dfe <= 0.14)\n",
    "    region_at_beginning_2 = np.where(x_rk5 <= 0.14)\n",
    "    region_at_end_1 = np.where(x_rk4_coupled_dfe >= 3.3)\n",
    "    region_at_end_2 = np.where(x_rk5 >= 3.3)\n",
    "\n",
    "    plt.plot(x_rk4_coupled_dfe[region_at_beginning_1], y1_rel_err_rk4[region_at_beginning_1], \"-\", lw=2, color=blue, label=\"$10.000$ steps RK4\")\n",
    "    plt.plot(x_rk5[region_at_beginning_2], y1_rel_err_rk5[region_at_beginning_2], \"-\", lw=2, color=\"orange\", label=\"Adaptive RK5\")\n",
    "    \n",
    "    plt.ylabel(r\"$\\mid \\varepsilon_{\\mathrm{rel}}(x) \\mid$ for $y_1(x)$ in $\\%$ (!)\", labelpad=20, fontsize=12)\n",
    "    plt.legend()\n",
    "    \n",
    "    plt.yscale(\"log\")\n",
    "    plt.subplot(1, 2, 2,)\n",
    "    plt.yscale(\"log\")\n",
    "    \n",
    "    plt.xlabel(\"$x$ (end)\")\n",
    "    plt.plot(x_rk4_coupled_dfe[region_at_end_1], y2_rel_err_rk4[region_at_end_1], \"-\", lw=2, color=blue, label=\"$10.000$ steps RK4\")\n",
    "    plt.plot(x_rk5[region_at_end_2], y2_rel_err_rk5[region_at_end_2], \"-\", lw=2, color=\"orange\", label=\"Adaptive RK5\")\n",
    "    \n",
    "    plt.ylabel(r\"$\\mid \\varepsilon_{\\mathrm{rel}}(x) \\mid$ for $y_2(x)$ in $\\%$ (!)\", labelpad=20, fontsize=12)\n",
    "    plt.tight_layout()\n",
    "    \n",
    "    plt.savefig(\"figures/after_exercise_9/comparison_of_rel_errors_only_rk4_and_rk5\")\n",
    "    \n",
    "    \n"
   ]
  },
  {
   "cell_type": "markdown",
   "metadata": {
    "scrolled": false
   },
   "source": [
    "*### Problem&nbsp;2.2 &mdash; integrator stability\n",
    "\n",
    "#### Exercise&nbsp;11\n",
    "\n",
    "Test the stability conditions derived in Section&nbsp;2.5 of the PDF manual,\n",
    "both for the Euler integrator and for RK4.\n",
    "What maximum stepsize is allowed in each case?\n",
    "(Eigenvalues found in Exercise&nbsp;9).\n",
    "How does this transform into a step number?\n",
    "(Allow for 3 additional steps accounting for rounding errors).\n",
    "Check the solution with the corresponding (minimum) step-numbers,\n",
    "particularly whether the numerical results decay to the analytic solution.\n",
    "Plot the corresponding numerical solutions in comparison to the exact one.\n",
    "Reduce the step number by ten and watch what happens.\n"
   ]
  },
  {
   "cell_type": "code",
   "execution_count": 20,
   "metadata": {
    "scrolled": false,
    "ExecuteTime": {
     "end_time": "2024-05-10T09:46:35.255533Z",
     "start_time": "2024-05-10T09:46:35.248176Z"
    }
   },
   "outputs": [
    {
     "ename": "SyntaxError",
     "evalue": "invalid syntax (1170490166.py, line 3)",
     "output_type": "error",
     "traceback": [
      "\u001B[0;36m  Cell \u001B[0;32mIn[20], line 3\u001B[0;36m\u001B[0m\n\u001B[0;31m    ...run the integrators with the critical step numbers\u001B[0m\n\u001B[0m       ^\u001B[0m\n\u001B[0;31mSyntaxError\u001B[0m\u001B[0;31m:\u001B[0m invalid syntax\n"
     ]
    }
   ],
   "source": [
    "#cell #23\n",
    "\n",
    "...run the integrators with the critical step numbers\n",
    "(and a little more and a little less)...\n"
   ]
  },
  {
   "cell_type": "code",
   "execution_count": null,
   "metadata": {
    "scrolled": false,
    "ExecuteTime": {
     "start_time": "2024-05-10T09:46:35.255129Z"
    }
   },
   "outputs": [],
   "source": [
    "#cell #24\n",
    "\n",
    "...and plot the results.\n"
   ]
  }
 ],
 "metadata": {
  "kernelspec": {
   "display_name": "Python 3",
   "language": "python",
   "name": "python3"
  },
  "language_info": {
   "codemirror_mode": {
    "name": "ipython",
    "version": 3
   },
   "file_extension": ".py",
   "mimetype": "text/x-python",
   "name": "python",
   "nbconvert_exporter": "python",
   "pygments_lexer": "ipython3",
   "version": "3.7.3"
  }
 },
 "nbformat": 4,
 "nbformat_minor": 1
}
