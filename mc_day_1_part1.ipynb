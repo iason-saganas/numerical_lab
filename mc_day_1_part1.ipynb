{
 "cells": [
  {
   "cell_type": "markdown",
   "metadata": {},
   "source": [
    "<h1> Simple Random Number Generators and Visual Tests </h1>\n",
    "\n",
    "In the following, you will investigate the 2-D correlation of random numbers obtained from this representative (low cycle) RNG, as a function of $A$. Note that such RNGs with $M$ being a power of two should create the full cycle if $C$ is odd and $A−1$ is a multiple of 4."
   ]
  },
  {
   "cell_type": "code",
   "execution_count": 2,
   "metadata": {
    "collapsed": false,
    "ExecuteTime": {
     "end_time": "2024-05-10T18:07:34.362552Z",
     "start_time": "2024-05-10T18:07:32.616274Z"
    }
   },
   "outputs": [],
   "source": [
    "import math\n",
    "import numpy as np\n",
    "%matplotlib qt \n",
    "import matplotlib.pyplot as plt"
   ]
  },
  {
   "cell_type": "markdown",
   "metadata": {},
   "source": [
    "<h3> a) Random Number Generator </h3>\n",
    "First check the results from fig. 1.5\n",
    "by writing a python function <i>get_random_numbers</i> that returns $N$ random numbers using the basic algorithm in eq. (1.16) and takes A, M, C and the seed as input and returns an array with N random numbers. Make A, M, C and the seed optional parameters."
   ]
  },
  {
   "cell_type": "code",
   "execution_count": 3,
   "metadata": {
    "collapsed": false,
    "ExecuteTime": {
     "end_time": "2024-05-10T18:07:34.370970Z",
     "start_time": "2024-05-10T18:07:34.365215Z"
    }
   },
   "outputs": [],
   "source": [
    "def get_random_numbers(n_numbers, seed=6 , a=63, c=3, m=2048):\n",
    "    \"\"\"Input:\n",
    "         n_numbers: how many random numbers to create\n",
    "         optional arguments: seed, a, c, m (see script)\n",
    "       Output:\n",
    "         numbers: the random numbers created\n",
    "    \"\"\"\n",
    "    results = np.zeros(n_numbers)\n",
    "    for i in range(n_numbers):\n",
    "        seed = np.mod((a*seed + c), m)\n",
    "        results[i] = seed\n",
    "    # put your code here\n",
    "    return np.array(results)/m\n"
   ]
  },
  {
   "cell_type": "markdown",
   "metadata": {},
   "source": [
    "Now check how fast your code runs using the timeit command and compare it to the random number generator from numpy (http://www.numpy.org/). Is there any way to speed up your code within python?"
   ]
  },
  {
   "cell_type": "code",
   "execution_count": 4,
   "metadata": {
    "collapsed": false,
    "ExecuteTime": {
     "end_time": "2024-05-10T18:07:38.380979Z",
     "start_time": "2024-05-10T18:07:34.386200Z"
    }
   },
   "outputs": [
    {
     "name": "stdout",
     "output_type": "stream",
     "text": [
      "13.3 ms ± 56.6 µs per loop (mean ± std. dev. of 3 runs, 100 loops each)\n",
      "80.3 µs ± 11.5 µs per loop (mean ± std. dev. of 3 runs, 100 loops each)\n"
     ]
    }
   ],
   "source": [
    "# if you want reproducable random numbers, you can set the seed using the following statement\n",
    "# np.random.seed(seed) # specify which seed to use\n",
    "\n",
    "# We corrected our function by initializing the `results`\n",
    "# variable with zeros, such that the memory is registered a priori\n",
    "\n",
    "%timeit -r 3 -n 100 get_random_numbers(10000) \n",
    "%timeit -r 3 -n 100 np.random.rand(10000)\n"
   ]
  },
  {
   "cell_type": "markdown",
   "metadata": {},
   "source": [
    "Reproduce figure 1.15 (the exact same figure, not just qualitatively) from the Instructions.  You have to choose an appropriate number of random numbers.\n",
    "<img src='http://www.usm.uni-muenchen.de/people/paech/Astro_Num_Lab/Random.png'>\n"
   ]
  },
  {
   "cell_type": "code",
   "execution_count": 5,
   "metadata": {
    "collapsed": false,
    "ExecuteTime": {
     "end_time": "2024-05-10T18:07:38.727872Z",
     "start_time": "2024-05-10T18:07:38.471521Z"
    }
   },
   "outputs": [
    {
     "data": {
      "text/plain": "'for i in range(num_of_random_numbers-1):\\n    num1 = RNG[i]\\n    num2 = RNG[i+1]\\n    plt.plot(num1, num2, \".\", color=\"green\", markersize=5)'"
     },
     "execution_count": 5,
     "metadata": {},
     "output_type": "execute_result"
    }
   ],
   "source": [
    "num_of_random_numbers = 2047\n",
    "SEED = 1\n",
    "RNG = get_random_numbers(n_numbers=num_of_random_numbers, seed=SEED, a=65*2, c=2, m=2048)\n",
    "\n",
    "def linear(x, m, t):\n",
    "    return m*x+t\n",
    "\n",
    "x_cont = np.linspace(0, 1, 100)\n",
    "plt.plot(x_cont, linear(x_cont, 1, 0.06), \"b-\")\n",
    "plt.plot(x_cont, linear(x_cont, 1, 0.), \"b-\")\n",
    "plt.plot(RNG[1:-1:2], RNG[2::2],'.') # use consecutive pairs of numbers\n",
    "\n",
    "\"\"\"for i in range(num_of_random_numbers-1):\n",
    "    num1 = RNG[i]\n",
    "    num2 = RNG[i+1]\n",
    "    plt.plot(num1, num2, \".\", color=\"green\", markersize=5)\"\"\"\n"
   ]
  },
  {
   "cell_type": "code",
   "execution_count": 5,
   "outputs": [],
   "source": [],
   "metadata": {
    "collapsed": false,
    "ExecuteTime": {
     "end_time": "2024-05-10T18:07:38.729883Z",
     "start_time": "2024-05-10T18:07:38.715601Z"
    }
   }
  },
  {
   "cell_type": "markdown",
   "metadata": {},
   "source": [
    "<h3>b) The basic random number generator for different values of $A$</h3>\n",
    "After completing exercise a) successfully, modify the program in such a way that arbitrary values for an optional parameter $A$ (pick a default value) can be read in from the input (modifying $C$ will not change the principal result). Display the results for different $A$, $A = 5, 9, \\dots37$. Plot typical cases for large and small correlation. What do you conclude?\n"
   ]
  },
  {
   "cell_type": "code",
   "execution_count": 6,
   "metadata": {
    "collapsed": false,
    "ExecuteTime": {
     "end_time": "2024-05-10T18:07:39.834169Z",
     "start_time": "2024-05-10T18:07:38.754018Z"
    }
   },
   "outputs": [
    {
     "ename": "IndexError",
     "evalue": "index 2047 is out of bounds for axis 0 with size 2047",
     "output_type": "error",
     "traceback": [
      "\u001B[0;31m---------------------------------------------------------------------------\u001B[0m",
      "\u001B[0;31mIndexError\u001B[0m                                Traceback (most recent call last)",
      "Cell \u001B[0;32mIn[6], line 5\u001B[0m\n\u001B[1;32m      3\u001B[0m \u001B[38;5;28;01mfor\u001B[39;00m i \u001B[38;5;129;01min\u001B[39;00m \u001B[38;5;28mrange\u001B[39m(num_of_random_numbers):\n\u001B[1;32m      4\u001B[0m     num1 \u001B[38;5;241m=\u001B[39m RNG[i]\n\u001B[0;32m----> 5\u001B[0m     num2 \u001B[38;5;241m=\u001B[39m \u001B[43mRNG\u001B[49m\u001B[43m[\u001B[49m\u001B[43mi\u001B[49m\u001B[38;5;241;43m+\u001B[39;49m\u001B[38;5;241;43m1\u001B[39;49m\u001B[43m]\u001B[49m\n\u001B[1;32m      6\u001B[0m     plt\u001B[38;5;241m.\u001B[39mplot(num1, num2, \u001B[38;5;124m\"\u001B[39m\u001B[38;5;124m.\u001B[39m\u001B[38;5;124m\"\u001B[39m, color\u001B[38;5;241m=\u001B[39m\u001B[38;5;124m\"\u001B[39m\u001B[38;5;124mgreen\u001B[39m\u001B[38;5;124m\"\u001B[39m, markersize\u001B[38;5;241m=\u001B[39m\u001B[38;5;241m3\u001B[39m, label\u001B[38;5;241m=\u001B[39m\u001B[38;5;124mf\u001B[39m\u001B[38;5;124m\"\u001B[39m\u001B[38;5;124mA = \u001B[39m\u001B[38;5;132;01m{\u001B[39;00ma\u001B[38;5;132;01m}\u001B[39;00m\u001B[38;5;124m\"\u001B[39m)\n\u001B[1;32m      7\u001B[0m plt\u001B[38;5;241m.\u001B[39mlegend()\n",
      "\u001B[0;31mIndexError\u001B[0m: index 2047 is out of bounds for axis 0 with size 2047"
     ]
    }
   ],
   "source": [
    "for a in [5, 10]: \n",
    "    RNG = get_random_numbers(n_numbers=num_of_random_numbers, seed=SEED, a=a, c=1, m=2048)\n",
    "    for i in range(num_of_random_numbers):\n",
    "        num1 = RNG[i]\n",
    "        num2 = RNG[i+1]\n",
    "        plt.plot(num1, num2, \".\", color=\"green\", markersize=3, label=f\"A = {a}\")\n",
    "    plt.legend()\n",
    "plt.show()"
   ]
  },
  {
   "cell_type": "markdown",
   "metadata": {},
   "source": [
    "<h3>c) Comparison to the minimum standard generator</h3>\n",
    "Finally, for the same number of $N$ , plot the corresponding results obtained from the “minumum standard generator” ran1 defined in the next cell."
   ]
  },
  {
   "cell_type": "code",
   "execution_count": null,
   "metadata": {
    "collapsed": false,
    "ExecuteTime": {
     "start_time": "2024-05-10T18:07:39.830518Z"
    }
   },
   "outputs": [],
   "source": [
    "def ran1(N, seed=5):\n",
    "    def rand():\n",
    "        m=2147483647\n",
    "        a=69621\n",
    "        q=30845\n",
    "        r=23902\n",
    "        m1=1./m\n",
    "        seed = rand.seed\n",
    "        k = int(seed/q) # use explicit cast to int in case of python3\n",
    "        seed = a*(seed - k*q) - r*k\n",
    "        if seed < 0: seed += m\n",
    "        ran = seed*m1\n",
    "        rand.seed = seed\n",
    "        return ran\n",
    "    rand.seed = seed\n",
    "    if N == 1:\n",
    "        return rand()\n",
    "    else:\n",
    "        return np.array([rand() for i in range(N)])    "
   ]
  },
  {
   "cell_type": "code",
   "execution_count": null,
   "metadata": {
    "collapsed": false,
    "ExecuteTime": {
     "end_time": "2024-05-10T18:07:39.834492Z",
     "start_time": "2024-05-10T18:07:39.834375Z"
    }
   },
   "outputs": [],
   "source": [
    "# set N to an appropriate value\n",
    "N = num_of_random_numbers\n",
    "my_numbers = ran1(N+1)\n",
    "for i in range(num_of_random_numbers):\n",
    "    num1 = my_numbers[i]\n",
    "    num2 = my_numbers[i+1]\n",
    "    plt.plot(num1, num2, \"b.\")\n",
    "plt.plot(my_numbers[1:-1:2], my_numbers[2::2],'r.')\n",
    "plt.xlabel('$x_i$');\n",
    "plt.ylabel('$x_{i+1}$');"
   ]
  },
  {
   "cell_type": "code",
   "execution_count": null,
   "metadata": {
    "collapsed": true,
    "ExecuteTime": {
     "start_time": "2024-05-10T18:07:39.838261Z"
    }
   },
   "outputs": [],
   "source": []
  },
  {
   "cell_type": "code",
   "execution_count": null,
   "metadata": {
    "collapsed": true,
    "ExecuteTime": {
     "start_time": "2024-05-10T18:07:39.843030Z"
    }
   },
   "outputs": [],
   "source": []
  }
 ],
 "metadata": {
  "kernel_info": {
   "name": "python2"
  },
  "kernelspec": {
   "display_name": "Python 3",
   "language": "python",
   "name": "python3"
  },
  "language_info": {
   "codemirror_mode": {
    "name": "ipython",
    "version": 3
   },
   "file_extension": ".py",
   "mimetype": "text/x-python",
   "name": "python",
   "nbconvert_exporter": "python",
   "pygments_lexer": "ipython3",
   "version": "3.6.4"
  }
 },
 "nbformat": 4,
 "nbformat_minor": 2
}
