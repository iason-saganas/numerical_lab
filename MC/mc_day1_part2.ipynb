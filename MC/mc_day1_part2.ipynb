{
 "cells": [
  {
   "cell_type": "markdown",
   "metadata": {},
   "source": [
    "<h1>Exercise 2: Monte Carlo Integration</h1>\n",
    "\n",
    "The Planck law is of the defining pillars of modern physics. It has a very important role in astronomy as well, as it describes the radiation emitted by a black body at a given temperature $T$ \n",
    "\n",
    "\\begin{equation}\n",
    "B_\\nu(\\nu, T) = \\frac{ 2 h \\nu^3}{c^2} \\frac{1}{e^\\frac{h\\nu}{k_\\mathrm B T} - 1} \\quad\\quad\\quad\\quad (1)\n",
    "\\end{equation}\n",
    "\n",
    "at frequency $\\nu$ and $k_\\mathrm B$ is the Boltzmann constant. All other symbols are well known fundamental constants of physics. The total intensity radiated from a black body can be calculated by integrating over frequency, resulting in the Stefan-Boltzmann law\n",
    "\n",
    "$$ \\int_0^\\infty B_\\nu(\\nu, T) {\\rm d}\\nu = \\frac{\\sigma_{\\rm B}}{\\pi} T^4 \\quad\\quad\\quad\\quad (2)$$\n",
    "\n",
    "where $\\sigma_{\\rm B}= 5.670367 \\cdot 10^{−8} \\rm{W m^{−2} K^{−4}}$ is the Stefan-Boltzmann constant.\n",
    "\n",
    "In this exercise we will determine the value of the 1-D integral\n",
    "$$\\int_0^\\infty\\frac{x^3}{{\\rm e}^x-1}{\\rm d}x \\quad\\quad\\quad\\quad (3) $$\n",
    "using Monte Carlo Integration uniformly distributed random numbers. \n",
    "\n",
    "\n",
    "Investigate the following aspects:\n",
    "- Since the integral extends to infinity - which cannot be simulated - you have \n",
    "to choose a cut-off for the upper limit of the integral. Use different \n",
    "cut-offs to examine which value is sufficient.\n",
    "- Using different sample sizes $N$, check the $1/\\sqrt(N)$-law of the MC integration\n",
    "and compare with the exact solution of the integral\n"
   ]
  },
  {
   "cell_type": "code",
   "execution_count": 1,
   "metadata": {
    "collapsed": true,
    "ExecuteTime": {
     "end_time": "2024-05-16T12:50:20.686671Z",
     "start_time": "2024-05-16T12:50:19.691072Z"
    }
   },
   "outputs": [],
   "source": [
    "# import some python modules we need for math and plotting\n",
    "import math\n",
    "import random\n",
    "import numpy as np\n",
    "%matplotlib qt\n",
    "import matplotlib.pyplot as plt"
   ]
  },
  {
   "cell_type": "markdown",
   "metadata": {},
   "source": [
    "\n",
    "<h3>a) Determine the expected value of the integral in equation (3)</h3>\n",
    "by comparing equation (1) and (2) and the given value of $\\sigma_{\\rm B}$.\n",
    "(Hint: Use a suitable substitution for the integration variable in the first equation). If you have made no error in your calculation (consistent units!), you should find a value close to the exact one, which is $\\pi^4/15$ and can be derived, e.g., from an analytic integration over the complex plane."
   ]
  },
  {
   "cell_type": "markdown",
   "metadata": {},
   "source": [
    "<h3>b) Numerical value of the integral </h3>\n",
    "Before you go on to determine the value of the integral, visualize the function you would like to integrate. This will help you in finding a good cut-off for the integration.\n",
    "\n",
    "Now determine the value of the integral in the third equation from a Monte Carlo (MC) integration. You can use the numpy.random.rand. Since the integral extends to infinity which cannot be simulated, use different maximum values x_max, to examine which value is sufficient. What happens if you choose x_max too large? Also, use different sample sizes $N$, and check the $1/\\sqrt{N}$-law of the MC integration. Compare with the exact value as given above.\n"
   ]
  },
  {
   "cell_type": "code",
   "execution_count": 7,
   "metadata": {
    "collapsed": false,
    "ExecuteTime": {
     "end_time": "2024-05-07T14:46:37.328586Z",
     "start_time": "2024-05-07T14:46:37.214262Z"
    }
   },
   "outputs": [
    {
     "name": "stderr",
     "output_type": "stream",
     "text": [
      "/var/folders/9y/tnqj0p6s0mjcnrh409r__5l40000gn/T/ipykernel_23035/2245405919.py:2: RuntimeWarning: invalid value encountered in divide\n",
      "  return x**3/(np.exp(x)-1)\n"
     ]
    }
   ],
   "source": [
    "def stefan_boltzmann(x):\n",
    "    return x**3/(np.exp(x)-1)\n",
    "\n",
    "# From the visualization we suggest to use 12 as a cutoff limit\n",
    "\n",
    "x = np.linspace(0, 20, 200)\n",
    "plt.hlines(0, 0, 20, ls=\"--\", color=\"black\", label=\"null-line\", )\n",
    "plt.hlines(0.014, 0, 20, ls=\"--\", color=\"blue\", label=\"1% of max line\", )\n",
    "plt.legend()\n",
    "plt.plot(x, stefan_boltzmann(x), \"r-\")\n",
    "\n",
    "exact_integral = np.pi**4/15.\n",
    "# We have derived the exact value (see picture) "
   ]
  },
  {
   "cell_type": "code",
   "execution_count": 103,
   "metadata": {
    "collapsed": false,
    "ExecuteTime": {
     "end_time": "2024-05-07T15:32:15.890283Z",
     "start_time": "2024-05-07T15:32:14.518225Z"
    }
   },
   "outputs": [
    {
     "name": "stdout",
     "output_type": "stream",
     "text": [
      "Sampling 1000000 points, we have :  6.518871127262896  for the mean value of the integral and a 1 sigma error of 0.01681004048215449. The absolute difference of the mean to the approximation is:  -0.02487112726289631\n"
     ]
    },
    {
     "data": {
      "text/plain": "[<matplotlib.lines.Line2D at 0x12a207ca0>]"
     },
     "execution_count": 103,
     "metadata": {},
     "output_type": "execute_result"
    }
   ],
   "source": [
    "# Determine the integral sampling from a uniform distribution\n",
    "def integral_uniform_sampling(func, n_samples, x_min, x_max):\n",
    "    \"\"\"Calculate the Monte Carlo integral of function using uniform sampling\n",
    "    Inputs:\n",
    "      func: function to be integrated\n",
    "      n_samples: how many samples to use\n",
    "      x_min: lower integration bound\n",
    "      x_max: upper integration bound\n",
    "      \n",
    "    Outputs:\n",
    "      integral: the estimated value of the integral\n",
    "      error: the estimated error of the integral\n",
    "    \"\"\"\n",
    "    \n",
    "    random_standard_samples = x_max * np.random.rand(n_samples)\n",
    "    integral_samples = func(random_standard_samples)\n",
    "    mean = np.mean(integral_samples)  # <g>\n",
    "    mean_of_square = np.mean(integral_samples**2)  # <g^2>\n",
    "    volume = x_max - x_min\n",
    "    \n",
    "    integral = mean*volume # V <g>\n",
    "    error = volume * np.sqrt(1/n_samples * (mean_of_square - mean**2))  # V sqrt(1/N * (<g^2> - <g>^2))\n",
    "    \n",
    "    return integral, error\n",
    "\n",
    "\n",
    "n_sampl = 1_000_000\n",
    "val, er = integral_uniform_sampling(func=stefan_boltzmann, n_samples=n_sampl, x_min=0, x_max=50)\n",
    "print(f\"Sampling {n_sampl} points, we have : \", val, \" for the mean value of the integral and a 1 sigma error of \"\n",
    "                                                     f\"{er}. The absolute difference of the mean to the approximation is: \",\n",
    "      6.494-val)\n",
    "\n",
    "\n",
    "\"\"\"\"print(\"\\n\\nval | err | diff to real / err\")\n",
    "error_list = []\n",
    "for i in range(1000):\n",
    "    val, er = integral_uniform_sampling(func=stefan_boltzmann, n_samples=n_sampl, x_min=0, x_max=50)\n",
    "    mu = np.abs((np.pi**4/15 - val)/er)\n",
    "    # print(f\"{val} | {er} |\", mu)\n",
    "    error_list.append(mu)    \n",
    "\n",
    "plt.hist(error_list, bins=\"auto\")\n",
    "\n",
    "mean_mu = np.mean(mu)\n",
    "print(mean_mu)  # LOL\"\"\"\n",
    "\n",
    "error_list = []\n",
    "mu_list = []\n",
    "xmax_list = np.linspace(12, 100, 30)\n",
    "for xmax in xmax_list:\n",
    "    val, er = integral_uniform_sampling(func=stefan_boltzmann, n_samples=n_sampl, x_min=0, x_max=xmax)\n",
    "    mu = np.abs((np.pi**4/15 - val)/er)\n",
    "    error_list.append(er)    \n",
    "    mu_list.append(mu)    \n",
    "\n",
    "plt.plot(xmax_list, error_list, \"b.\")\n",
    "plt.plot(xmax_list, mu_list, \"r.\")\n"
   ]
  },
  {
   "cell_type": "code",
   "execution_count": 37,
   "metadata": {
    "collapsed": false,
    "ExecuteTime": {
     "end_time": "2024-05-07T15:05:43.587335Z",
     "start_time": "2024-05-07T15:05:43.580804Z"
    }
   },
   "outputs": [],
   "source": []
  },
  {
   "cell_type": "code",
   "execution_count": null,
   "metadata": {
    "collapsed": false
   },
   "outputs": [],
   "source": []
  }
 ],
 "metadata": {
  "kernel_info": {
   "name": "python2"
  },
  "kernelspec": {
   "display_name": "Python 3",
   "language": "python",
   "name": "python3"
  },
  "language_info": {
   "codemirror_mode": {
    "name": "ipython",
    "version": 3
   },
   "file_extension": ".py",
   "mimetype": "text/x-python",
   "name": "python",
   "nbconvert_exporter": "python",
   "pygments_lexer": "ipython3",
   "version": "3.6.4"
  }
 },
 "nbformat": 4,
 "nbformat_minor": 2
}
